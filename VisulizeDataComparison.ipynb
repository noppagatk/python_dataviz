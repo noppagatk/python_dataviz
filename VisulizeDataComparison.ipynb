{
 "cells": [
  {
   "cell_type": "code",
   "execution_count": 1,
   "metadata": {},
   "outputs": [],
   "source": [
    "import pandas as pd\n",
    "from matplotlib import pyplot as plt"
   ]
  },
  {
   "cell_type": "code",
   "execution_count": 6,
   "metadata": {},
   "outputs": [],
   "source": [
    "df = pd.read_excel('C:\\\\Users\\\\KD\\\\Documents\\\\income.xls',header = 3)"
   ]
  },
  {
   "cell_type": "code",
   "execution_count": 7,
   "metadata": {},
   "outputs": [
    {
     "data": {
      "text/html": [
       "<div>\n",
       "<style scoped>\n",
       "    .dataframe tbody tr th:only-of-type {\n",
       "        vertical-align: middle;\n",
       "    }\n",
       "\n",
       "    .dataframe tbody tr th {\n",
       "        vertical-align: top;\n",
       "    }\n",
       "\n",
       "    .dataframe thead th {\n",
       "        text-align: right;\n",
       "    }\n",
       "</style>\n",
       "<table border=\"1\" class=\"dataframe\">\n",
       "  <thead>\n",
       "    <tr style=\"text-align: right;\">\n",
       "      <th></th>\n",
       "      <th>ภาค และจังหวัด</th>\n",
       "      <th>Unnamed: 1</th>\n",
       "      <th>2541</th>\n",
       "      <th>2543</th>\n",
       "      <th>2545</th>\n",
       "      <th>2547</th>\n",
       "      <th>2549</th>\n",
       "      <th>2550</th>\n",
       "      <th>2552</th>\n",
       "      <th>2554</th>\n",
       "      <th>2556</th>\n",
       "      <th>2558</th>\n",
       "      <th>Region and province</th>\n",
       "    </tr>\n",
       "  </thead>\n",
       "  <tbody>\n",
       "    <tr>\n",
       "      <td>0</td>\n",
       "      <td>NaN</td>\n",
       "      <td>NaN</td>\n",
       "      <td>1998.0</td>\n",
       "      <td>2000.0</td>\n",
       "      <td>2002.0</td>\n",
       "      <td>2004.0</td>\n",
       "      <td>2006.0</td>\n",
       "      <td>2007.0</td>\n",
       "      <td>2009.0</td>\n",
       "      <td>2011.0</td>\n",
       "      <td>2013.0</td>\n",
       "      <td>2015.000000</td>\n",
       "      <td>NaN</td>\n",
       "    </tr>\n",
       "    <tr>\n",
       "      <td>1</td>\n",
       "      <td>NaN</td>\n",
       "      <td>NaN</td>\n",
       "      <td>NaN</td>\n",
       "      <td>NaN</td>\n",
       "      <td>NaN</td>\n",
       "      <td>NaN</td>\n",
       "      <td>NaN</td>\n",
       "      <td>NaN</td>\n",
       "      <td>NaN</td>\n",
       "      <td>NaN</td>\n",
       "      <td>NaN</td>\n",
       "      <td>NaN</td>\n",
       "      <td>NaN</td>\n",
       "    </tr>\n",
       "    <tr>\n",
       "      <td>2</td>\n",
       "      <td>ทั่วราชอาณาจักร</td>\n",
       "      <td>NaN</td>\n",
       "      <td>12492.0</td>\n",
       "      <td>12150.0</td>\n",
       "      <td>13736.0</td>\n",
       "      <td>14963.0</td>\n",
       "      <td>17787.0</td>\n",
       "      <td>18660.0</td>\n",
       "      <td>20904.0</td>\n",
       "      <td>23235.9</td>\n",
       "      <td>25194.0</td>\n",
       "      <td>26914.846584</td>\n",
       "      <td>Whole Kingdom</td>\n",
       "    </tr>\n",
       "    <tr>\n",
       "      <td>3</td>\n",
       "      <td>ตอนพิเศษ</td>\n",
       "      <td>NaN</td>\n",
       "      <td>24929.0</td>\n",
       "      <td>25242.0</td>\n",
       "      <td>28239.0</td>\n",
       "      <td>28135.0</td>\n",
       "      <td>33088.0</td>\n",
       "      <td>35007.0</td>\n",
       "      <td>37732.0</td>\n",
       "      <td>41630.6</td>\n",
       "      <td>43058.0</td>\n",
       "      <td>41002.390519</td>\n",
       "      <td>Greater Bangkok</td>\n",
       "    </tr>\n",
       "    <tr>\n",
       "      <td>4</td>\n",
       "      <td>กรุงเทพมหานคร</td>\n",
       "      <td>NaN</td>\n",
       "      <td>26054.0</td>\n",
       "      <td>26909.0</td>\n",
       "      <td>29589.0</td>\n",
       "      <td>29843.0</td>\n",
       "      <td>36658.0</td>\n",
       "      <td>39020.0</td>\n",
       "      <td>42380.0</td>\n",
       "      <td>48951.0</td>\n",
       "      <td>49190.8</td>\n",
       "      <td>45571.700000</td>\n",
       "      <td>Bangkok</td>\n",
       "    </tr>\n",
       "    <tr>\n",
       "      <td>...</td>\n",
       "      <td>...</td>\n",
       "      <td>...</td>\n",
       "      <td>...</td>\n",
       "      <td>...</td>\n",
       "      <td>...</td>\n",
       "      <td>...</td>\n",
       "      <td>...</td>\n",
       "      <td>...</td>\n",
       "      <td>...</td>\n",
       "      <td>...</td>\n",
       "      <td>...</td>\n",
       "      <td>...</td>\n",
       "      <td>...</td>\n",
       "    </tr>\n",
       "    <tr>\n",
       "      <td>84</td>\n",
       "      <td>นราธิวาส</td>\n",
       "      <td>NaN</td>\n",
       "      <td>6281.0</td>\n",
       "      <td>7802.0</td>\n",
       "      <td>7603.0</td>\n",
       "      <td>9240.0</td>\n",
       "      <td>11586.0</td>\n",
       "      <td>13148.0</td>\n",
       "      <td>11244.0</td>\n",
       "      <td>16834.4</td>\n",
       "      <td>16772.8</td>\n",
       "      <td>19889.600000</td>\n",
       "      <td>Narathiwat</td>\n",
       "    </tr>\n",
       "    <tr>\n",
       "      <td>85</td>\n",
       "      <td>NaN</td>\n",
       "      <td>NaN</td>\n",
       "      <td>NaN</td>\n",
       "      <td>NaN</td>\n",
       "      <td>NaN</td>\n",
       "      <td>NaN</td>\n",
       "      <td>NaN</td>\n",
       "      <td>NaN</td>\n",
       "      <td>NaN</td>\n",
       "      <td>NaN</td>\n",
       "      <td>NaN</td>\n",
       "      <td>NaN</td>\n",
       "      <td>NaN</td>\n",
       "    </tr>\n",
       "    <tr>\n",
       "      <td>86</td>\n",
       "      <td>NaN</td>\n",
       "      <td>NaN</td>\n",
       "      <td>NaN</td>\n",
       "      <td>NaN</td>\n",
       "      <td>NaN</td>\n",
       "      <td>NaN</td>\n",
       "      <td>NaN</td>\n",
       "      <td>NaN</td>\n",
       "      <td>NaN</td>\n",
       "      <td>NaN</td>\n",
       "      <td>NaN</td>\n",
       "      <td>NaN</td>\n",
       "      <td>NaN</td>\n",
       "    </tr>\n",
       "    <tr>\n",
       "      <td>87</td>\n",
       "      <td>ที่มา:</td>\n",
       "      <td>การสำรวจภาวะเศรษฐกิจและสังคมของครัวเรือน  สำนั...</td>\n",
       "      <td>NaN</td>\n",
       "      <td>NaN</td>\n",
       "      <td>NaN</td>\n",
       "      <td>NaN</td>\n",
       "      <td>NaN</td>\n",
       "      <td>NaN</td>\n",
       "      <td>NaN</td>\n",
       "      <td>NaN</td>\n",
       "      <td>NaN</td>\n",
       "      <td>NaN</td>\n",
       "      <td>NaN</td>\n",
       "    </tr>\n",
       "    <tr>\n",
       "      <td>88</td>\n",
       "      <td>Source:</td>\n",
       "      <td>The Household Socio - Economic Survey, Nationa...</td>\n",
       "      <td>NaN</td>\n",
       "      <td>NaN</td>\n",
       "      <td>NaN</td>\n",
       "      <td>NaN</td>\n",
       "      <td>NaN</td>\n",
       "      <td>NaN</td>\n",
       "      <td>NaN</td>\n",
       "      <td>NaN</td>\n",
       "      <td>NaN</td>\n",
       "      <td>NaN</td>\n",
       "      <td>NaN</td>\n",
       "    </tr>\n",
       "  </tbody>\n",
       "</table>\n",
       "<p>89 rows × 13 columns</p>\n",
       "</div>"
      ],
      "text/plain": [
       "       ภาค และจังหวัด                                         Unnamed: 1  \\\n",
       "0                 NaN                                                NaN   \n",
       "1                 NaN                                                NaN   \n",
       "2     ทั่วราชอาณาจักร                                                NaN   \n",
       "3            ตอนพิเศษ                                                NaN   \n",
       "4       กรุงเทพมหานคร                                                NaN   \n",
       "..                ...                                                ...   \n",
       "84           นราธิวาส                                                NaN   \n",
       "85                NaN                                                NaN   \n",
       "86                NaN                                                NaN   \n",
       "87             ที่มา:  การสำรวจภาวะเศรษฐกิจและสังคมของครัวเรือน  สำนั...   \n",
       "88            Source:  The Household Socio - Economic Survey, Nationa...   \n",
       "\n",
       "       2541     2543     2545     2547     2549     2550     2552     2554  \\\n",
       "0    1998.0   2000.0   2002.0   2004.0   2006.0   2007.0   2009.0   2011.0   \n",
       "1       NaN      NaN      NaN      NaN      NaN      NaN      NaN      NaN   \n",
       "2   12492.0  12150.0  13736.0  14963.0  17787.0  18660.0  20904.0  23235.9   \n",
       "3   24929.0  25242.0  28239.0  28135.0  33088.0  35007.0  37732.0  41630.6   \n",
       "4   26054.0  26909.0  29589.0  29843.0  36658.0  39020.0  42380.0  48951.0   \n",
       "..      ...      ...      ...      ...      ...      ...      ...      ...   \n",
       "84   6281.0   7802.0   7603.0   9240.0  11586.0  13148.0  11244.0  16834.4   \n",
       "85      NaN      NaN      NaN      NaN      NaN      NaN      NaN      NaN   \n",
       "86      NaN      NaN      NaN      NaN      NaN      NaN      NaN      NaN   \n",
       "87      NaN      NaN      NaN      NaN      NaN      NaN      NaN      NaN   \n",
       "88      NaN      NaN      NaN      NaN      NaN      NaN      NaN      NaN   \n",
       "\n",
       "       2556          2558 Region and province  \n",
       "0    2013.0   2015.000000                 NaN  \n",
       "1       NaN           NaN                 NaN  \n",
       "2   25194.0  26914.846584       Whole Kingdom  \n",
       "3   43058.0  41002.390519     Greater Bangkok  \n",
       "4   49190.8  45571.700000             Bangkok  \n",
       "..      ...           ...                 ...  \n",
       "84  16772.8  19889.600000          Narathiwat  \n",
       "85      NaN           NaN                 NaN  \n",
       "86      NaN           NaN                 NaN  \n",
       "87      NaN           NaN                 NaN  \n",
       "88      NaN           NaN                 NaN  \n",
       "\n",
       "[89 rows x 13 columns]"
      ]
     },
     "execution_count": 7,
     "metadata": {},
     "output_type": "execute_result"
    }
   ],
   "source": [
    "df"
   ]
  },
  {
   "cell_type": "markdown",
   "metadata": {},
   "source": [
    "### คำสั่งในการตัดตาราง "
   ]
  },
  {
   "cell_type": "code",
   "execution_count": 11,
   "metadata": {},
   "outputs": [
    {
     "data": {
      "text/html": [
       "<div>\n",
       "<style scoped>\n",
       "    .dataframe tbody tr th:only-of-type {\n",
       "        vertical-align: middle;\n",
       "    }\n",
       "\n",
       "    .dataframe tbody tr th {\n",
       "        vertical-align: top;\n",
       "    }\n",
       "\n",
       "    .dataframe thead th {\n",
       "        text-align: right;\n",
       "    }\n",
       "</style>\n",
       "<table border=\"1\" class=\"dataframe\">\n",
       "  <thead>\n",
       "    <tr style=\"text-align: right;\">\n",
       "      <th></th>\n",
       "      <th>ภาค และจังหวัด</th>\n",
       "      <th>Unnamed: 1</th>\n",
       "      <th>2541</th>\n",
       "      <th>2543</th>\n",
       "      <th>2545</th>\n",
       "      <th>2547</th>\n",
       "      <th>2549</th>\n",
       "      <th>2550</th>\n",
       "      <th>2552</th>\n",
       "      <th>2554</th>\n",
       "      <th>2556</th>\n",
       "      <th>2558</th>\n",
       "      <th>Region and province</th>\n",
       "    </tr>\n",
       "  </thead>\n",
       "  <tbody>\n",
       "    <tr>\n",
       "      <td>4</td>\n",
       "      <td>กรุงเทพมหานคร</td>\n",
       "      <td>NaN</td>\n",
       "      <td>26054.0</td>\n",
       "      <td>26909.0</td>\n",
       "      <td>29589.0</td>\n",
       "      <td>29843.0</td>\n",
       "      <td>36658.0</td>\n",
       "      <td>39020.0</td>\n",
       "      <td>42380.0</td>\n",
       "      <td>48951.0</td>\n",
       "      <td>49190.8</td>\n",
       "      <td>45571.7</td>\n",
       "      <td>Bangkok</td>\n",
       "    </tr>\n",
       "    <tr>\n",
       "      <td>5</td>\n",
       "      <td>สมุทรปราการ</td>\n",
       "      <td>NaN</td>\n",
       "      <td>18100.0</td>\n",
       "      <td>15745.0</td>\n",
       "      <td>19680.0</td>\n",
       "      <td>19946.0</td>\n",
       "      <td>20382.0</td>\n",
       "      <td>21302.0</td>\n",
       "      <td>23359.0</td>\n",
       "      <td>23797.9</td>\n",
       "      <td>29575.3</td>\n",
       "      <td>25457.2</td>\n",
       "      <td>Samut Prakan</td>\n",
       "    </tr>\n",
       "    <tr>\n",
       "      <td>6</td>\n",
       "      <td>นนทบุรี</td>\n",
       "      <td>NaN</td>\n",
       "      <td>24211.0</td>\n",
       "      <td>24566.0</td>\n",
       "      <td>29119.0</td>\n",
       "      <td>26658.0</td>\n",
       "      <td>31152.0</td>\n",
       "      <td>32743.0</td>\n",
       "      <td>34626.0</td>\n",
       "      <td>35119.7</td>\n",
       "      <td>30663.6</td>\n",
       "      <td>36884.0</td>\n",
       "      <td>Nonthaburi</td>\n",
       "    </tr>\n",
       "    <tr>\n",
       "      <td>7</td>\n",
       "      <td>ปทุมธานี</td>\n",
       "      <td>NaN</td>\n",
       "      <td>21793.0</td>\n",
       "      <td>19282.0</td>\n",
       "      <td>22838.0</td>\n",
       "      <td>21530.0</td>\n",
       "      <td>25143.0</td>\n",
       "      <td>26107.0</td>\n",
       "      <td>26686.0</td>\n",
       "      <td>21615.5</td>\n",
       "      <td>33461.3</td>\n",
       "      <td>41056.9</td>\n",
       "      <td>Pathum Thani</td>\n",
       "    </tr>\n",
       "  </tbody>\n",
       "</table>\n",
       "</div>"
      ],
      "text/plain": [
       "      ภาค และจังหวัด Unnamed: 1     2541     2543     2545     2547     2549  \\\n",
       "4      กรุงเทพมหานคร        NaN  26054.0  26909.0  29589.0  29843.0  36658.0   \n",
       "5        สมุทรปราการ        NaN  18100.0  15745.0  19680.0  19946.0  20382.0   \n",
       "6            นนทบุรี        NaN  24211.0  24566.0  29119.0  26658.0  31152.0   \n",
       "7           ปทุมธานี        NaN  21793.0  19282.0  22838.0  21530.0  25143.0   \n",
       "\n",
       "      2550     2552     2554     2556     2558 Region and province  \n",
       "4  39020.0  42380.0  48951.0  49190.8  45571.7             Bangkok  \n",
       "5  21302.0  23359.0  23797.9  29575.3  25457.2        Samut Prakan  \n",
       "6  32743.0  34626.0  35119.7  30663.6  36884.0          Nonthaburi  \n",
       "7  26107.0  26686.0  21615.5  33461.3  41056.9        Pathum Thani  "
      ]
     },
     "execution_count": 11,
     "metadata": {},
     "output_type": "execute_result"
    }
   ],
   "source": [
    "greaterbangkok = df.iloc[4:8,:]\n",
    "greaterbangkok"
   ]
  },
  {
   "cell_type": "markdown",
   "metadata": {},
   "source": [
    "### Barchart (กราฟเเท่ง)"
   ]
  },
  {
   "cell_type": "markdown",
   "metadata": {},
   "source": [
    "### สร้างกราฟเเท่งเปรียบเทียบรายได้ในปี 2541 ของจังหวัดกรุงเทพเเละปริมณฑล"
   ]
  },
  {
   "cell_type": "code",
   "execution_count": 9,
   "metadata": {},
   "outputs": [
    {
     "data": {
      "text/plain": [
       "Text(0, 0.5, 'Income Bath/Month/Household')"
      ]
     },
     "execution_count": 9,
     "metadata": {},
     "output_type": "execute_result"
    },
    {
     "data": {
      "image/png": "[encoded data removed]",
      "text/plain": [
       "<Figure size 432x288 with 1 Axes>"
      ]
     },
     "metadata": {
      "needs_background": "light"
     },
     "output_type": "display_data"
    }
   ],
   "source": [
    "plt.bar([1,2,3,4],greaterbangkok.iloc[:,2])\n",
    "plt.title('Barchart compareing income of provinces in Greater Bangkok in 2541') ##ชื่อเรื่องของกราฟ\n",
    "plt.xlabel('Provinces') ### ชื่อเเกน x\n",
    "plt.ylabel('Income Bath/Month/Household') ### ชื่อเเกน y"
   ]
  },
  {
   "cell_type": "markdown",
   "metadata": {},
   "source": [
    "### add tick label"
   ]
  },
  {
   "cell_type": "code",
   "execution_count": 12,
   "metadata": {},
   "outputs": [
    {
     "data": {
      "text/plain": [
       "Text(0, 0.5, 'Income Bath/Month/Household')"
      ]
     },
     "execution_count": 12,
     "metadata": {},
     "output_type": "execute_result"
    },
    {
     "data": {
      "image/png": "[encoded data removed]",
      "text/plain": [
       "<Figure size 432x288 with 1 Axes>"
      ]
     },
     "metadata": {
      "needs_background": "light"
     },
     "output_type": "display_data"
    }
   ],
   "source": [
    "plt.bar([1,2,3,4],greaterbangkok.iloc[:,2],tick_label=greaterbangkok.iloc[:,-1])\n",
    "plt.title('Barchart compareing income of provinces in Greater Bangkok in 2541') ##ชื่อเรื่องของกราฟ\n",
    "plt.xlabel('Provinces') ### ชื่อเเกน x\n",
    "plt.ylabel('Income Bath/Month/Household') ### ชื่อเเกน y"
   ]
  },
  {
   "cell_type": "markdown",
   "metadata": {},
   "source": [
    "### compare different years"
   ]
  },
  {
   "cell_type": "markdown",
   "metadata": {},
   "source": [
    "### ข้อมูลของปีที่เราต้องการ เเละต้องกำหนดสีเพื่อให้มันเเตกต่างกัน กำหนดให้กราฟไม่ซ้อนทับกันโดยการเติม width 0.35 เพื่อกำหนดขนาดของกราฟให้ไม่ซ้อนทับกัน\n"
   ]
  },
  {
   "cell_type": "code",
   "execution_count": 17,
   "metadata": {},
   "outputs": [
    {
     "data": {
      "text/plain": [
       "Text(0, 0.5, 'Income Bath/Month/Household')"
      ]
     },
     "execution_count": 17,
     "metadata": {},
     "output_type": "execute_result"
    },
    {
     "data": {
      "image/png": "[encoded data removed]",
      "text/plain": [
       "<Figure size 432x288 with 1 Axes>"
      ]
     },
     "metadata": {
      "needs_background": "light"
     },
     "output_type": "display_data"
    }
   ],
   "source": [
    "plt.bar([1-(0.35/2),2-(0.35/2),3-(0.35/2),4-(0.35/2)],greaterbangkok.iloc[:,-2],width=0.35,tick_label=greaterbangkok.iloc[:,-1],color = 'b',label='2541',align='edge')\n",
    "plt.bar([1+(0.35/2),2+(0.35/2),3+(0.35/2),4+(0.35/2)],greaterbangkok.iloc[:,2],width=0.35,tick_label=greaterbangkok.iloc[:,-1],color = 'r',label='2558',align='edge')\n",
    "plt.title('Barchart compareing income of provinces in Greater Bangkok in 2541,2558')\n",
    "plt.xlabel('Provinces')\n",
    "plt.legend(loc=10)    ##สามารถเลือกตำเเหน่งมันได้ตามที่ต้องการ\n",
    "plt.ylabel('Income Bath/Month/Household')"
   ]
  },
  {
   "cell_type": "markdown",
   "metadata": {},
   "source": [
    "### Stacked Barchart เอากราฟเเท่งมาทับซ้อนกันเพื่อดูว่ามันเเตกต่างกันมากน้อยเเค่ไหน"
   ]
  },
  {
   "cell_type": "code",
   "execution_count": 19,
   "metadata": {},
   "outputs": [
    {
     "data": {
      "text/html": [
       "<div>\n",
       "<style scoped>\n",
       "    .dataframe tbody tr th:only-of-type {\n",
       "        vertical-align: middle;\n",
       "    }\n",
       "\n",
       "    .dataframe tbody tr th {\n",
       "        vertical-align: top;\n",
       "    }\n",
       "\n",
       "    .dataframe thead th {\n",
       "        text-align: right;\n",
       "    }\n",
       "</style>\n",
       "<table border=\"1\" class=\"dataframe\">\n",
       "  <thead>\n",
       "    <tr style=\"text-align: right;\">\n",
       "      <th></th>\n",
       "      <th>North</th>\n",
       "      <th>East</th>\n",
       "      <th>West</th>\n",
       "      <th>South</th>\n",
       "    </tr>\n",
       "  </thead>\n",
       "  <tbody>\n",
       "    <tr>\n",
       "      <td>0</td>\n",
       "      <td>20</td>\n",
       "      <td>10</td>\n",
       "      <td>90</td>\n",
       "      <td>120</td>\n",
       "    </tr>\n",
       "    <tr>\n",
       "      <td>1</td>\n",
       "      <td>220</td>\n",
       "      <td>20</td>\n",
       "      <td>50</td>\n",
       "      <td>90</td>\n",
       "    </tr>\n",
       "  </tbody>\n",
       "</table>\n",
       "</div>"
      ],
      "text/plain": [
       "   North  East  West  South\n",
       "0     20    10    90    120\n",
       "1    220    20    50     90"
      ]
     },
     "execution_count": 19,
     "metadata": {},
     "output_type": "execute_result"
    }
   ],
   "source": [
    "seledata = pd.DataFrame([{'North' :20, 'East':10, 'West':90, 'South':120},\n",
    "                                          {'North' :220, 'East':20, 'West':50, 'South':90}])\n",
    "seledata"
   ]
  },
  {
   "cell_type": "markdown",
   "metadata": {},
   "source": [
    "### ต้องการพล็อตกราฟ 4 ภูมิภาค  Bottom เท่ากับฐาน"
   ]
  },
  {
   "cell_type": "code",
   "execution_count": 26,
   "metadata": {},
   "outputs": [
    {
     "data": {
      "text/plain": [
       "<BarContainer object of 2 artists>"
      ]
     },
     "execution_count": 26,
     "metadata": {},
     "output_type": "execute_result"
    },
    {
     "data": {
      "image/png": "[encoded data removed]",
      "text/plain": [
       "<Figure size 432x288 with 1 Axes>"
      ]
     },
     "metadata": {
      "needs_background": "light"
     },
     "output_type": "display_data"
    }
   ],
   "source": [
    "plt.bar([1,2],seledata.iloc[:,0],tick_label=['company A', 'company B'])\n",
    "plt.bar([1,2,],seledata.iloc[:,1],bottom=seledata.iloc[:,0],tick_label=['company A', 'company B'])\n",
    "plt.bar([1,2,],seledata.iloc[:,2],bottom=seledata.iloc[:,0]+seledata.iloc[:,1],tick_label=['company A', 'company B'])\n",
    "plt.bar([1,2,],seledata.iloc[:,3],bottom=seledata.iloc[:,0]+seledata.iloc[:,1]+seledata.iloc[:,2],tick_label=['company A', 'company B'])"
   ]
  },
  {
   "cell_type": "code",
   "execution_count": null,
   "metadata": {},
   "outputs": [],
   "source": []
  }
 ],
 "metadata": {
  "kernelspec": {
   "display_name": "Python 3",
   "language": "python",
   "name": "python3"
  },
  "language_info": {
   "codemirror_mode": {
    "name": "ipython",
    "version": 3
   },
   "file_extension": ".py",
   "mimetype": "text/x-python",
   "name": "python",
   "nbconvert_exporter": "python",
   "pygments_lexer": "ipython3",
   "version": "3.7.3"
  }
 },
 "nbformat": 4,
 "nbformat_minor": 2
}
