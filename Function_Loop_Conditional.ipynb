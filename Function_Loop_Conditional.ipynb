{
 "cells": [
  {
   "cell_type": "markdown",
   "metadata": {},
   "source": [
    "### Function การใช้งาน \n",
    "### print ชื่อ XXX นามกุล YYY รหัส ZZZ\n",
    "### print เกรดวิชา stat1 >>AAA"
   ]
  },
  {
   "cell_type": "code",
   "execution_count": 3,
   "metadata": {},
   "outputs": [
    {
     "name": "stdout",
     "output_type": "stream",
     "text": [
      " ชื่อ นพภเกตุน์ นามสกุล คนคง รหัส 603021868-3\n"
     ]
    }
   ],
   "source": [
    "a =   ' ชื่อ นพภเกตุน์ นามสกุล คนคง รหัส 603021868-3'\n",
    "print(a)"
   ]
  },
  {
   "cell_type": "code",
   "execution_count": 6,
   "metadata": {},
   "outputs": [
    {
     "name": "stdout",
     "output_type": "stream",
     "text": [
      "ชื่อ  นพภเกตุน์  นามสกุล  คนคง   รหัส 603021868-3\n"
     ]
    }
   ],
   "source": [
    "name = \"นพภเกตุน์\"\n",
    "surname = \"คนคง\"\n",
    "ID = \"603021868-3\"\n",
    "b = f'ชื่อ  {name}  นามสกุล  {surname}   รหัส {ID}'\n",
    "print(b)                                           \n",
    "                                           "
   ]
  },
  {
   "cell_type": "markdown",
   "metadata": {},
   "source": [
    "### การประกาศใช้ function ช้คำสั่ง def และหลังจากนั้น function_name เป็นชื่อของฟังก์ชัน และในวงเล็บ ()"
   ]
  },
  {
   "cell_type": "code",
   "execution_count": 7,
   "metadata": {},
   "outputs": [],
   "source": [
    "def print_line1():\n",
    "      return"
   ]
  },
  {
   "cell_type": "markdown",
   "metadata": {},
   "source": [
    "``` python\n",
    "def function_name(input):\n",
    "    do_something\n",
    "    return output\n",
    "```"
   ]
  },
  {
   "cell_type": "markdown",
   "metadata": {},
   "source": [
    "### ต้องการ print input ได้เเก่ ชื่อ-นามสกุล เเละรหัส"
   ]
  },
  {
   "cell_type": "code",
   "execution_count": 9,
   "metadata": {},
   "outputs": [],
   "source": [
    "def print_line():\n",
    "    st = f'ชื่อ  {name}  นามสกุล  {surname}   รหัส {ID}'\n",
    "    return st "
   ]
  },
  {
   "cell_type": "code",
   "execution_count": 27,
   "metadata": {},
   "outputs": [],
   "source": [
    "def print_line1(name1,surname1,ID1):\n",
    "    st = f'ชื่อ {name1} นามสกุล {surname1} รหัส {ID1}'\n",
    "    return st"
   ]
  },
  {
   "cell_type": "code",
   "execution_count": 28,
   "metadata": {},
   "outputs": [
    {
     "name": "stdout",
     "output_type": "stream",
     "text": [
      "ชื่อ  กาญจนา นามสกุล  ประสาคุณ  รหัส  603021855-2 \n"
     ]
    }
   ],
   "source": [
    "print(print_line1(' กาญจนา' , ' ประสาคุณ ' , ' 603021855-2 ' ))"
   ]
  },
  {
   "cell_type": "markdown",
   "metadata": {},
   "source": [
    "### ต้องการ print input ที่มีเกรดด้วยโดยการเปลี่ยนชื่อ functionใหม่ เเละเพิ่มตัวเเปร เกรด เข้าไปใน functionนั้น"
   ]
  },
  {
   "cell_type": "code",
   "execution_count": 29,
   "metadata": {},
   "outputs": [],
   "source": [
    "def print_2lines(name1,surname1,ID1,grade):\n",
    "    st = f'ชื่อ {name1} นามสกุล {surname1} รหัส {ID1}'\n",
    "    print(st)\n",
    "    st2 = f'เกรดวิชา stat1 >>> {grade}'\n",
    "    print(st2)"
   ]
  },
  {
   "cell_type": "code",
   "execution_count": 30,
   "metadata": {},
   "outputs": [
    {
     "name": "stdout",
     "output_type": "stream",
     "text": [
      "ชื่อ  กาญจนา นามสกุล  ประสาคุณ  รหัส  603021855-2 \n",
      "เกรดวิชา stat1 >>> A\n",
      "None\n"
     ]
    }
   ],
   "source": [
    "print(print_2lines(' กาญจนา' , ' ประสาคุณ ' , ' 603021855-2 ' , 'A' ))"
   ]
  },
  {
   "cell_type": "markdown",
   "metadata": {},
   "source": [
    "### print ตัวเเปรที่ต้องการคือชื่อเพื่อนร่วมเเถว โดยการ เปลี่ยนชื่อ-นามสกลุ รหัส พร้อมเกรด จาก กาญจนา ประสาคุณเป็นชื่อเพื่อนคนอื่น เพื่อดู เกรดของเพื่อนเเต่ละคน "
   ]
  },
  {
   "cell_type": "code",
   "execution_count": 33,
   "metadata": {},
   "outputs": [
    {
     "name": "stdout",
     "output_type": "stream",
     "text": [
      "ชื่อ  ภานรินทร์ นามสกุล  อิ่นเเก้ว  รหัส  603021110-2 \n",
      "เกรดวิชา stat1 >>> B\n",
      "None\n",
      "ชื่อ กาญจนา  นามสกุล  ประสาคุณ  รหัส  603021855-2 \n",
      "เกรดวิชา stat1 >>> C\n",
      "None\n",
      "ชื่อ  พงศ์ศิริเดช นามสกุล  ศิลปษา  รหัส  603021874-8 \n",
      "เกรดวิชา stat1 >>> B+\n",
      "None\n",
      "ชื่อ  นพภเกตุน์ นามสกุล  คนคง  รหัส  603021868-3 \n",
      "เกรดวิชา stat1 >>> C+\n",
      "None\n"
     ]
    }
   ],
   "source": [
    "print(print_2lines(' ภานรินทร์' , ' อิ่นเเก้ว ' , ' 603021110-2 ' , 'B' ))\n",
    "print(print_2lines('กาญจนา ' , ' ประสาคุณ ' , ' 603021855-2 ' , 'C' ))\n",
    "print(print_2lines(' พงศ์ศิริเดช' , ' ศิลปษา ' , ' 603021874-8 ' , 'B+' ))\n",
    "print(print_2lines(' นพภเกตุน์' , ' คนคง ' , ' 603021868-3 ' , 'C+' ))"
   ]
  },
  {
   "cell_type": "markdown",
   "metadata": {},
   "source": [
    "### function  wihout input การทำfunction โดยที่ไม่ต้อง input ข้อมูลเข้าไป"
   ]
  },
  {
   "cell_type": "code",
   "execution_count": 34,
   "metadata": {},
   "outputs": [],
   "source": [
    "def two_x_three():\n",
    "    x = 2*3\n",
    "    return x "
   ]
  },
  {
   "cell_type": "code",
   "execution_count": 36,
   "metadata": {},
   "outputs": [
    {
     "data": {
      "text/plain": [
       "6"
      ]
     },
     "execution_count": 36,
     "metadata": {},
     "output_type": "execute_result"
    }
   ],
   "source": [
    " two_x_three()"
   ]
  },
  {
   "cell_type": "markdown",
   "metadata": {},
   "source": [
    "### fuction with default argumentค่าเริ่มต้นระบุว่าอาร์กิวเมนต์ของฟังก์ชั่นจะใช้ค่านั้นถ้าไม่มีค่าอาร์กิวเมนต์จะถูกส่งผ่านระหว่างการเรียกใช้ฟังก์ชัน\n",
    "### ชื่อคำหลักที่ผ่านควรตรงกับชื่อคำหลักที่แท้จริง"
   ]
  },
  {
   "cell_type": "code",
   "execution_count": 52,
   "metadata": {},
   "outputs": [],
   "source": [
    "def print_2lines_default(name1,surname1,ID1,grade = 'f' ):\n",
    "    st = f'ชื่อ {name1} นามสกุล {surname1} รหัส {ID1}'\n",
    "    print(st)\n",
    "    st2 = f'เกรดวิชา stat1 >>> {grade}'\n",
    "    print(st2)"
   ]
  },
  {
   "cell_type": "code",
   "execution_count": 53,
   "metadata": {},
   "outputs": [
    {
     "name": "stdout",
     "output_type": "stream",
     "text": [
      "ชื่อ  กาญจนา  นามสกุล  ประสาคุณ  รหัส  603021855-2 \n",
      "เกรดวิชา stat1 >>> f\n"
     ]
    }
   ],
   "source": [
    "print_2lines_default(' กาญจนา ' , ' ประสาคุณ ', ' 603021855-2 ')"
   ]
  },
  {
   "cell_type": "code",
   "execution_count": 46,
   "metadata": {},
   "outputs": [
    {
     "name": "stdout",
     "output_type": "stream",
     "text": [
      "ชื่อ  กาญจนา นามสกุล  ประสาคุณ  รหัส  603021855-2 \n",
      "เกรดวิชา stat1 >>> A+\n"
     ]
    }
   ],
   "source": [
    "print_2lines_default( ' กาญจนา' , ' ประสาคุณ ' , ' 603021855-2 ','A+' )"
   ]
  },
  {
   "cell_type": "code",
   "execution_count": 54,
   "metadata": {},
   "outputs": [
    {
     "name": "stdout",
     "output_type": "stream",
     "text": [
      "ชื่อ  กาญจนา  นามสกุล  ประสาคุณ  รหัส  603021855-2 \n",
      "เกรดวิชา stat1 >>>  A+ \n"
     ]
    }
   ],
   "source": [
    "print_2lines_default(' กาญจนา ' , ' ประสาคุณ ', ' 603021855-2 ', ' A+ ')"
   ]
  },
  {
   "cell_type": "markdown",
   "metadata": {},
   "source": [
    "### Loop(วนซ้ำ)"
   ]
  },
  {
   "cell_type": "markdown",
   "metadata": {},
   "source": [
    "#### for ตัวแปร in ลำดับขอบเขต :\n",
    " \n",
    "  ### คำสั่ง"
   ]
  },
  {
   "cell_type": "markdown",
   "metadata": {},
   "source": [
    "```python\n",
    "for each_member in listA:\n",
    "    do something\n",
    "```"
   ]
  },
  {
   "cell_type": "code",
   "execution_count": 55,
   "metadata": {},
   "outputs": [
    {
     "name": "stdout",
     "output_type": "stream",
     "text": [
      "1\n",
      "2\n",
      "3\n"
     ]
    }
   ],
   "source": [
    "for i in [1,2,3]:\n",
    "    print(i)"
   ]
  },
  {
   "cell_type": "code",
   "execution_count": 59,
   "metadata": {},
   "outputs": [
    {
     "name": "stdout",
     "output_type": "stream",
     "text": [
      " T -> / \n",
      "  \n",
      " h -> / \n",
      "  \n",
      " o -> / \n",
      "  \n",
      " n -> / \n",
      "  \n",
      " a -> / \n",
      "  \n",
      " p -> / \n",
      "  \n",
      " o -> / \n",
      "  \n",
      " n -> / \n",
      "  \n",
      " g -> / \n",
      "  \n"
     ]
    }
   ],
   "source": [
    "for i in 'Thonapong' :\n",
    "    print(f' {i} -> / ' )\n",
    "    print('  ')"
   ]
  },
  {
   "cell_type": "markdown",
   "metadata": {},
   "source": [
    "## 1 สร้าง List ชื่อ เพื่อนที่อยู่ในเเถวยาวเดียวกัน \n",
    "## 1.5สร้าง function print ประโยคว่า ชื่อเราXXX YYYความรู้สึก  ZZZ เพื่อนทุกคนในเเถวเดียวกัน \n",
    "## 2. วนลูเรียก function โดยเปลี่ยนชื่อไปเรื่อยๆ"
   ]
  },
  {
   "cell_type": "code",
   "execution_count": 60,
   "metadata": {},
   "outputs": [
    {
     "name": "stdout",
     "output_type": "stream",
     "text": [
      "โด้\n",
      "ฟาง\n",
      "ไอซ์\n",
      "นัท\n",
      "เเบงค์\n",
      "นกยูง\n"
     ]
    }
   ],
   "source": [
    "for i in ['โด้' , 'ฟาง' , 'ไอซ์' , 'นัท' , 'เเบงค์' , 'นกยูง']:\n",
    "    print(i)"
   ]
  },
  {
   "cell_type": "code",
   "execution_count": 72,
   "metadata": {},
   "outputs": [
    {
     "name": "stdout",
     "output_type": "stream",
     "text": [
      "เกตน์รักเพิ่อน โด้ \n",
      "  \n",
      "เกตน์รักเพิ่อน ฟาง \n",
      "  \n",
      "เกตน์รักเพิ่อน ไอซ์ \n",
      "  \n",
      "เกตน์รักเพิ่อน นัท \n",
      "  \n",
      "เกตน์รักเพิ่อน เเบงค์ \n",
      "  \n",
      "เกตน์รักเพิ่อน นกยูง \n",
      "  \n"
     ]
    }
   ],
   "source": [
    "for i in ' โด้ ' , ' ฟาง ' , ' ไอซ์ ' , ' นัท ' , ' เเบงค์ ' , ' นกยูง ' :\n",
    "    print(f'เกตน์รักเพิ่อน{i}'   )\n",
    "    print('  ')"
   ]
  },
  {
   "cell_type": "code",
   "execution_count": 1,
   "metadata": {},
   "outputs": [],
   "source": [
    "friend_list = ['ฟาง','ไอซ์','โด้','แบงค์']"
   ]
  },
  {
   "cell_type": "code",
   "execution_count": 2,
   "metadata": {},
   "outputs": [],
   "source": [
    "def print_feeling(I,feeling,friend):\n",
    "      print(f' {I} {feeling} {friend}')"
   ]
  },
  {
   "cell_type": "code",
   "execution_count": 3,
   "metadata": {},
   "outputs": [
    {
     "name": "stdout",
     "output_type": "stream",
     "text": [
      " เกตุน์ รักเพื่อน ไอซ์\n"
     ]
    }
   ],
   "source": [
    "print_feeling('เกตุน์' , 'รักเพื่อน' , 'ไอซ์')"
   ]
  },
  {
   "cell_type": "code",
   "execution_count": 101,
   "metadata": {},
   "outputs": [
    {
     "name": "stdout",
     "output_type": "stream",
     "text": [
      " เกตุน์ รักเพื่อน ฟาง\n",
      " เกตุน์ รักเพื่อน ไอซ์\n",
      " เกตุน์ รักเพื่อน โด้\n",
      " เกตุน์ รักเพื่อน แบงค์\n"
     ]
    }
   ],
   "source": [
    "for f in friend_list:\n",
    "    print_feeling('เกตุน์' , 'รักเพื่อน' ,f)\n",
    "\n"
   ]
  },
  {
   "cell_type": "markdown",
   "metadata": {},
   "source": [
    "### Loop in Loop "
   ]
  },
  {
   "cell_type": "code",
   "execution_count": 116,
   "metadata": {},
   "outputs": [
    {
     "name": "stdout",
     "output_type": "stream",
     "text": [
      " ฟาง รัก ฟาง\n",
      " ฟาง รัก ไอซ์\n",
      " ฟาง รัก โด้\n",
      " ฟาง รัก แบงค์\n",
      " ไอซ์ รัก ฟาง\n",
      " ไอซ์ รัก ไอซ์\n",
      " ไอซ์ รัก โด้\n",
      " ไอซ์ รัก แบงค์\n",
      " โด้ รัก ฟาง\n",
      " โด้ รัก ไอซ์\n",
      " โด้ รัก โด้\n",
      " โด้ รัก แบงค์\n",
      " แบงค์ รัก ฟาง\n",
      " แบงค์ รัก ไอซ์\n",
      " แบงค์ รัก โด้\n",
      " แบงค์ รัก แบงค์\n"
     ]
    }
   ],
   "source": [
    "for name1 in friend_list:\n",
    "    for name2 in friend_list:\n",
    "        print_feeling(name1,'รัก',name2)"
   ]
  },
  {
   "cell_type": "markdown",
   "metadata": {},
   "source": [
    "### loop in function"
   ]
  },
  {
   "cell_type": "code",
   "execution_count": 4,
   "metadata": {},
   "outputs": [],
   "source": [
    "def print_feeling(I,feeling,friends):\n",
    "    for friends in friends :\n",
    "      print(f' {I} {feeling} {friends}')\n",
    "        "
   ]
  },
  {
   "cell_type": "code",
   "execution_count": 5,
   "metadata": {},
   "outputs": [
    {
     "name": "stdout",
     "output_type": "stream",
     "text": [
      " เกตุน์ รัก ฟาง\n",
      " เกตุน์ รัก ไอซ์\n",
      " เกตุน์ รัก โด้\n",
      " เกตุน์ รัก แบงค์\n"
     ]
    }
   ],
   "source": [
    "print_feeling('เกตุน์','รัก', friend_list )"
   ]
  },
  {
   "cell_type": "code",
   "execution_count": null,
   "metadata": {},
   "outputs": [],
   "source": []
  },
  {
   "cell_type": "markdown",
   "metadata": {},
   "source": [
    "### Loping in dict "
   ]
  },
  {
   "cell_type": "code",
   "execution_count": 104,
   "metadata": {},
   "outputs": [
    {
     "data": {
      "text/plain": [
       "{' พันทิพา': 'B', ' ศุภนิตา': 'C', 'ปนัดดา': 'A', 'ทรงกลด': 'F'}"
      ]
     },
     "execution_count": 104,
     "metadata": {},
     "output_type": "execute_result"
    }
   ],
   "source": [
    "name_grad = {' พันทิพา' : 'B' ,' ศุภนิตา' : 'C' , 'ปนัดดา': 'A', 'ทรงกลด': \"F\" }\n",
    "name_grad"
   ]
  },
  {
   "cell_type": "code",
   "execution_count": 109,
   "metadata": {},
   "outputs": [
    {
     "data": {
      "text/plain": [
       "'A'"
      ]
     },
     "execution_count": 109,
     "metadata": {},
     "output_type": "execute_result"
    }
   ],
   "source": [
    "name_grad[ 'ปนัดดา' ]"
   ]
  },
  {
   "cell_type": "code",
   "execution_count": 111,
   "metadata": {},
   "outputs": [
    {
     "name": "stdout",
     "output_type": "stream",
     "text": [
      " พันทิพา ได้เกรด B  \n",
      " ศุภนิตา ได้เกรด C  \n",
      "ปนัดดา ได้เกรด A  \n",
      "ทรงกลด ได้เกรด F  \n"
     ]
    }
   ],
   "source": [
    "for i in name_grad.keys() :\n",
    "    print(f'{i} ได้เกรด {name_grad[ i ]}  ')"
   ]
  },
  {
   "cell_type": "markdown",
   "metadata": {},
   "source": [
    "### conditional\n",
    "### คำสั่ง if คือคำสั่งที่ทำให้จะให้คำสั่งทำงานต่อเมื่อเงื่อนไขที่กำหนดไว้เป็นจริง\n",
    "### คำสั่ง elif คือคำสั่งที่ต้องการให้การทำงานเป็นเท็จ\n"
   ]
  },
  {
   "cell_type": "markdown",
   "metadata": {},
   "source": [
    "```python\n",
    "if codition1:\n",
    "    do something\n",
    "elif condition2:\n",
    "    do another thing\n",
    "else:\n",
    "    do ...\n",
    "```"
   ]
  },
  {
   "cell_type": "code",
   "execution_count": 126,
   "metadata": {},
   "outputs": [
    {
     "name": "stdout",
     "output_type": "stream",
     "text": [
      " ฟาง รัก ไอซ์\n",
      " ฟาง รัก โด้\n",
      " ฟาง รัก แบงค์\n",
      " ไอซ์ รัก ฟาง\n",
      " ไอซ์ รัก โด้\n",
      " ไอซ์ รัก แบงค์\n",
      " โด้ รัก ฟาง\n",
      " โด้ รัก ไอซ์\n",
      " โด้ รัก แบงค์\n",
      " แบงค์ รัก ฟาง\n",
      " แบงค์ รัก ไอซ์\n",
      " แบงค์ รัก โด้\n"
     ]
    }
   ],
   "source": [
    "for name1 in friend_list:\n",
    "    for name2 in friend_list:\n",
    "        if name1 !=  name2:\n",
    "           print_feeling(name1,'รัก',name2)"
   ]
  },
  {
   "cell_type": "code",
   "execution_count": 128,
   "metadata": {},
   "outputs": [
    {
     "name": "stdout",
     "output_type": "stream",
     "text": [
      "Yes\n"
     ]
    }
   ],
   "source": [
    "if  True :\n",
    "    print ('Yes')"
   ]
  },
  {
   "cell_type": "code",
   "execution_count": 129,
   "metadata": {},
   "outputs": [],
   "source": [
    "if False:\n",
    "    print('No')"
   ]
  },
  {
   "cell_type": "code",
   "execution_count": 131,
   "metadata": {},
   "outputs": [
    {
     "name": "stdout",
     "output_type": "stream",
     "text": [
      "No\n"
     ]
    }
   ],
   "source": [
    "if False:\n",
    "    print('Yes')\n",
    "else:\n",
    "    print('No')"
   ]
  },
  {
   "cell_type": "code",
   "execution_count": 134,
   "metadata": {},
   "outputs": [
    {
     "data": {
      "text/plain": [
       "True"
      ]
     },
     "execution_count": 134,
     "metadata": {},
     "output_type": "execute_result"
    }
   ],
   "source": [
    "1 == 1\n",
    "    "
   ]
  },
  {
   "cell_type": "code",
   "execution_count": 135,
   "metadata": {},
   "outputs": [
    {
     "name": "stdout",
     "output_type": "stream",
     "text": [
      "1=1\n"
     ]
    }
   ],
   "source": [
    "if 1 == 1:\n",
    "    print( '1=1')"
   ]
  },
  {
   "cell_type": "markdown",
   "metadata": {},
   "source": [
    "#### == ข้างหน้าข้างหลังเท่ากัน != ข้างหน้าไม่เท่าข้างหลัง >= ตัวข้างหน้ามากว่าตัวข้างหลังหรือเปล่า ใช่ ตอบ true "
   ]
  },
  {
   "cell_type": "markdown",
   "metadata": {},
   "source": [
    "### การบ้าน เขียน function ตัดเกรด โดยที่ input เป็นคะเนน(0-100) output เป็นเกรด(F-A)\n",
    "### input = [1 , 50 , 65 , 90 , 101 , -5 , 49 ]"
   ]
  },
  {
   "cell_type": "code",
   "execution_count": 6,
   "metadata": {},
   "outputs": [],
   "source": [
    "Grad = ['A','B+','B','C+','C','D+','D','F']"
   ]
  },
  {
   "cell_type": "code",
   "execution_count": 10,
   "metadata": {},
   "outputs": [
    {
     "name": "stdout",
     "output_type": "stream",
     "text": [
      "Grad\n",
      "คะเเนนทั้งหมด:50\n",
      "คะเเนน 50 เกรดD\n"
     ]
    }
   ],
   "source": [
    "print ('Grad')\n",
    "score = int(input('คะเเนนทั้งหมด:'))\n",
    "if score >=0 and score<=49:\n",
    "   print ('คะเเนน',score,'เกรดF')\n",
    "elif score >=50 and score<=54:\n",
    "   print ('คะเเนน',score,'เกรดD')\n",
    "elif score >=55 and score<=59:\n",
    "   print ('คะเเนน',score,'เกรดD+')\n",
    "elif score >=60 and score<=64:\n",
    "   print ('คะเเนน',score,'เกรดC')\n",
    "elif score >=65 and score<=69:\n",
    "   print ('คะเเนน',score,'เกรดC+')\n",
    "elif score >=70 and score<=74:\n",
    "   print ('คะเเนน',score,'เกรดB')\n",
    "elif score >=75 and score<=79:\n",
    "  print ('คะเเนน',score,'เกรดB+')\n",
    "elif score >=80 and score<=100:\n",
    "   print ('คะเเนน',score,'เกรดA')\n",
    "else:\n",
    "    print('error')"
   ]
  },
  {
   "cell_type": "code",
   "execution_count": null,
   "metadata": {},
   "outputs": [],
   "source": []
  }
 ],
 "metadata": {
  "kernelspec": {
   "display_name": "Python 3",
   "language": "python",
   "name": "python3"
  },
  "language_info": {
   "codemirror_mode": {
    "name": "ipython",
    "version": 3
   },
   "file_extension": ".py",
   "mimetype": "text/x-python",
   "name": "python",
   "nbconvert_exporter": "python",
   "pygments_lexer": "ipython3",
   "version": "3.7.3"
  }
 },
 "nbformat": 4,
 "nbformat_minor": 2
}
