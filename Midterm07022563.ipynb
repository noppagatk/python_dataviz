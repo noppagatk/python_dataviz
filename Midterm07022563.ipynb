{
 "cells": [
  {
   "cell_type": "markdown",
   "metadata": {},
   "source": [
    "### -ข้อที่1 สร้างfunction ชื่อ smartDictซึ่งทำหน้าที่\n",
    "#### สร้างfunction รับ input เป็น list 2 ตัวที่มีขนาดเท่ากัน โดย list เเรกเป็น list ของตัวเลข list ที่2 เป็น list ของ text\n",
    "#### ถ้าค่าใน list เเรกเป็นเลขคี่ ให้ค่าในdict ที่เป็น output มี key เป็นค่าจากlist ตัวที่1เเละ value จากlist ตัวที่2\n",
    "#### ถ้าค่าใน list เเรกเป็นเลขคู่ ให้ค่าในdict ที่เป็น output มี key เป็นค่าจากlist ตัวที่2เเละ value จากlist ตัวที่1\n",
    "#### outputของ function คือ dict ที่สร้างขึ้น\n",
    "### เช่น output1 = smartDict([1,2,3], ['apple','banana','orange'])\n",
    "### จะได้ output1 เป็น{1 : 'apple':2,3:'orange'}"
   ]
  },
  {
   "cell_type": "code",
   "execution_count": 274,
   "metadata": {},
   "outputs": [],
   "source": [
    "def smartDict(listnumber, listtext, logicV):\n",
    "    if logicV: \n",
    "            retdict = {}\n",
    "            for index in range(len(listnumber)):\n",
    "                  retdict[listnumber[index]] = listtext[index]        \n",
    "    else:\n",
    "            retdict = {}\n",
    "            for index in range(len(listnumber)):\n",
    "                  retdict[listnumber[index]] = listnumber[index] \n",
    "                \n",
    "    return retdict"
   ]
  },
  {
   "cell_type": "code",
   "execution_count": 275,
   "metadata": {},
   "outputs": [
    {
     "data": {
      "text/plain": [
       "{1: 'apple', 2: 'banana', 3: 'orange'}"
      ]
     },
     "execution_count": 275,
     "metadata": {},
     "output_type": "execute_result"
    }
   ],
   "source": [
    "smartDict([1,2,3], ['apple','banana','orange'],True)"
   ]
  },
  {
   "cell_type": "code",
   "execution_count": 276,
   "metadata": {},
   "outputs": [
    {
     "data": {
      "text/plain": [
       "{1: 1, 2: 2, 3: 3}"
      ]
     },
     "execution_count": 276,
     "metadata": {},
     "output_type": "execute_result"
    }
   ],
   "source": [
    "smartDict([1,2,3], ['apple','banana','orange'],False)"
   ]
  },
  {
   "cell_type": "markdown",
   "metadata": {},
   "source": [
    "### ข้อ 2จากไฟล์ wuhan_nCov_GNome.txt จงเขียนโปรเเกรมเพื่อตอบคำถามต่อไปนี้\n",
    "### กรดอะมิโนใด (A,T,G,C)มีปริมาณมากที่สุดเเละมีเท่าไหร่\n",
    "### จงหา sequence ที่มีขนาด 3 เเละ 4 ที่เกิดขึ้นซ้ำกันมากที่สุด"
   ]
  },
  {
   "cell_type": "code",
   "execution_count": 40,
   "metadata": {},
   "outputs": [],
   "source": [
    "import pandas as pd"
   ]
  },
  {
   "cell_type": "code",
   "execution_count": 41,
   "metadata": {},
   "outputs": [
    {
     "data": {
      "text/html": [
       "<div>\n",
       "<style scoped>\n",
       "    .dataframe tbody tr th:only-of-type {\n",
       "        vertical-align: middle;\n",
       "    }\n",
       "\n",
       "    .dataframe tbody tr th {\n",
       "        vertical-align: top;\n",
       "    }\n",
       "\n",
       "    .dataframe thead th {\n",
       "        text-align: right;\n",
       "    }\n",
       "</style>\n",
       "<table border=\"1\" class=\"dataframe\">\n",
       "  <thead>\n",
       "    <tr style=\"text-align: right;\">\n",
       "      <th></th>\n",
       "      <th>0</th>\n",
       "    </tr>\n",
       "  </thead>\n",
       "  <tbody>\n",
       "    <tr>\n",
       "      <td>0</td>\n",
       "      <td>ATTAAAGGTTTATACCTTCCCAGGTAACAAACCAACCAACTTTCGA...</td>\n",
       "    </tr>\n",
       "    <tr>\n",
       "      <td>1</td>\n",
       "      <td>CGAACTTTAAAATCTGTGTGGCTGTCACTCGGCTGCATGCTTAGTG...</td>\n",
       "    </tr>\n",
       "    <tr>\n",
       "      <td>2</td>\n",
       "      <td>TAATTACTGTCGTTGACAGGACACGAGTAACTCGTCTATCTTCTGC...</td>\n",
       "    </tr>\n",
       "    <tr>\n",
       "      <td>3</td>\n",
       "      <td>TTGCAGCCGATCATCAGCACATCTAGGTTTCGTCCGGGTGTGACCG...</td>\n",
       "    </tr>\n",
       "    <tr>\n",
       "      <td>4</td>\n",
       "      <td>CCTGGTTTCAACGAGAAAACACACGTCCAACTCAGTTTGCCTGTTT...</td>\n",
       "    </tr>\n",
       "  </tbody>\n",
       "</table>\n",
       "</div>"
      ],
      "text/plain": [
       "                                                   0\n",
       "0  ATTAAAGGTTTATACCTTCCCAGGTAACAAACCAACCAACTTTCGA...\n",
       "1  CGAACTTTAAAATCTGTGTGGCTGTCACTCGGCTGCATGCTTAGTG...\n",
       "2  TAATTACTGTCGTTGACAGGACACGAGTAACTCGTCTATCTTCTGC...\n",
       "3  TTGCAGCCGATCATCAGCACATCTAGGTTTCGTCCGGGTGTGACCG...\n",
       "4  CCTGGTTTCAACGAGAAAACACACGTCCAACTCAGTTTGCCTGTTT..."
      ]
     },
     "execution_count": 41,
     "metadata": {},
     "output_type": "execute_result"
    }
   ],
   "source": [
    "DNAseq = pd. read_csv('C:\\\\Users\\\\KD\\\\Documents\\\\Wuhan_nCoV_GNome.txt',header=None)\n",
    "DNAseq.head()"
   ]
  },
  {
   "cell_type": "markdown",
   "metadata": {},
   "source": [
    "### DNAนี้มีความยาวทั้งหมดกี่ตัวอักษร\n",
    "### วนลูปเพื่อนับเเต่ละเเถว"
   ]
  },
  {
   "cell_type": "code",
   "execution_count": 42,
   "metadata": {},
   "outputs": [
    {
     "data": {
      "text/plain": [
       "(428, 1)"
      ]
     },
     "execution_count": 42,
     "metadata": {},
     "output_type": "execute_result"
    }
   ],
   "source": [
    "DNAseq.shape"
   ]
  },
  {
   "cell_type": "markdown",
   "metadata": {},
   "source": [
    "### จะวนลูปของตัวเลขทั้งหมดในเเถว DNAlong += len(DNAseq.iloc[row[0]])"
   ]
  },
  {
   "cell_type": "code",
   "execution_count": 46,
   "metadata": {},
   "outputs": [
    {
     "data": {
      "text/plain": [
       "'CGAACTTTAAAATCTGTGTGGCTGTCACTCGGCTGCATGCTTAGTGCACTCACGCAGTATAATTAATAAC'"
      ]
     },
     "execution_count": 46,
     "metadata": {},
     "output_type": "execute_result"
    }
   ],
   "source": [
    "DNAseq.iloc[1][0]"
   ]
  },
  {
   "cell_type": "markdown",
   "metadata": {},
   "source": [
    "### จะนับว่าDNA เเต่ละตัวมีเท่าไหร่ โดยต้องสร้างฟังก์ชั่นนับตัวอักษร1ตัวขึ้นมาเพื่อหาคำตอบจะนับตัวอักษรโดยเริ่มที่ 0 "
   ]
  },
  {
   "cell_type": "code",
   "execution_count": 43,
   "metadata": {},
   "outputs": [],
   "source": [
    "def countChar(seq,character):\n",
    "    charcount = 0\n",
    "    for char in seq:\n",
    "        if char == character:\n",
    "            charcount = charcount + 1\n",
    "    return charcount"
   ]
  },
  {
   "cell_type": "code",
   "execution_count": 44,
   "metadata": {},
   "outputs": [
    {
     "data": {
      "text/plain": [
       "16"
      ]
     },
     "execution_count": 44,
     "metadata": {},
     "output_type": "execute_result"
    }
   ],
   "source": [
    "countChar('ATTAAAGGTTTATACCTTCCCAGGTAACAAACCAACCAACTTTCG','A')"
   ]
  },
  {
   "cell_type": "code",
   "execution_count": 45,
   "metadata": {},
   "outputs": [
    {
     "name": "stdout",
     "output_type": "stream",
     "text": [
      "There are 8954 As, 9594 Ts, 5863 Gs, 5492 Cs\n"
     ]
    }
   ],
   "source": [
    "ANum = 0\n",
    "TNum = 0\n",
    "GNum = 0\n",
    "CNum = 0\n",
    "for row in range(DNAseq.shape[0]):\n",
    "    ANum += countChar(DNAseq.iloc[row][0],'A')\n",
    "    TNum += countChar(DNAseq.iloc[row][0],'T')\n",
    "    GNum += countChar(DNAseq.iloc[row][0],'G')\n",
    "    CNum += countChar(DNAseq.iloc[row][0],'C')\n",
    "    \n",
    "print(f'There are {ANum} As, {TNum} Ts, {GNum} Gs, {CNum} Cs')"
   ]
  },
  {
   "cell_type": "markdown",
   "metadata": {},
   "source": [
    "### output ของกรดอะมิโน (A,T,G,C)"
   ]
  },
  {
   "cell_type": "markdown",
   "metadata": {},
   "source": [
    "### หา sequence ที่มีขนาดติดกัน 3 ตัว"
   ]
  },
  {
   "cell_type": "code",
   "execution_count": 47,
   "metadata": {},
   "outputs": [
    {
     "data": {
      "text/plain": [
       "'ATTAAAGGTTT'"
      ]
     },
     "execution_count": 47,
     "metadata": {},
     "output_type": "execute_result"
    }
   ],
   "source": [
    "'ATTAAAGGTTT'"
   ]
  },
  {
   "cell_type": "code",
   "execution_count": 48,
   "metadata": {},
   "outputs": [],
   "source": [
    "def populate3charstring(seq):\n",
    "    str_list = list()\n",
    "    for i in range(len(seq)-2) :\n",
    "          str_list.append(seq[i:i+3])\n",
    "    return str_list"
   ]
  },
  {
   "cell_type": "code",
   "execution_count": 49,
   "metadata": {},
   "outputs": [
    {
     "data": {
      "text/plain": [
       "['ATT', 'TTA', 'TAA', 'AAA', 'AAG', 'AGG', 'GGT', 'GTT', 'TTT']"
      ]
     },
     "execution_count": 49,
     "metadata": {},
     "output_type": "execute_result"
    }
   ],
   "source": [
    "populate3charstring('ATTAAAGGTTT')"
   ]
  },
  {
   "cell_type": "code",
   "execution_count": 50,
   "metadata": {},
   "outputs": [],
   "source": [
    "list_all_3char = list()\n",
    "for row in range(DNAseq.shape[0] ):\n",
    "    list_all_3char  =  list_all_3char + populate3charstring(DNAseq.iloc[row][0])"
   ]
  },
  {
   "cell_type": "code",
   "execution_count": 51,
   "metadata": {},
   "outputs": [
    {
     "data": {
      "text/plain": [
       "29047"
      ]
     },
     "execution_count": 51,
     "metadata": {},
     "output_type": "execute_result"
    }
   ],
   "source": [
    "len(list_all_3char)"
   ]
  },
  {
   "cell_type": "code",
   "execution_count": 52,
   "metadata": {},
   "outputs": [],
   "source": [
    "unique_3char = list(set(list_all_3char))"
   ]
  },
  {
   "cell_type": "code",
   "execution_count": 53,
   "metadata": {},
   "outputs": [
    {
     "data": {
      "text/plain": [
       "64"
      ]
     },
     "execution_count": 53,
     "metadata": {},
     "output_type": "execute_result"
    }
   ],
   "source": [
    "len(unique_3char)"
   ]
  },
  {
   "cell_type": "markdown",
   "metadata": {},
   "source": [
    "### ขนาดตัวที่3ที่มีค่าที่เกิดขึ้นซ้ำกันมากที่สุดเป็นเท่าไร"
   ]
  },
  {
   "cell_type": "code",
   "execution_count": 54,
   "metadata": {},
   "outputs": [],
   "source": [
    "dict_3char = {}\n",
    "for sub_str in unique_3char:\n",
    "    num = 0\n",
    "    for s in list_all_3char:\n",
    "        if sub_str == s:\n",
    "            num += 1\n",
    "    dict_3char[sub_str] = num   "
   ]
  },
  {
   "cell_type": "code",
   "execution_count": 55,
   "metadata": {},
   "outputs": [
    {
     "data": {
      "text/plain": [
       "749"
      ]
     },
     "execution_count": 55,
     "metadata": {},
     "output_type": "execute_result"
    }
   ],
   "source": [
    "dict_3char['ATT']"
   ]
  },
  {
   "cell_type": "code",
   "execution_count": 57,
   "metadata": {},
   "outputs": [
    {
     "data": {
      "text/plain": [
       "{'GGG': 131,\n",
       " 'ACC': 364,\n",
       " 'CGA': 91,\n",
       " 'TGA': 602,\n",
       " 'GCC': 184,\n",
       " 'ACG': 157,\n",
       " 'CAA': 681,\n",
       " 'AGA': 582,\n",
       " 'TTG': 800,\n",
       " 'CGC': 92,\n",
       " 'CGT': 166,\n",
       " 'CTG': 483,\n",
       " 'TGC': 530,\n",
       " 'TCA': 536,\n",
       " 'TAA': 688,\n",
       " 'CAT': 472,\n",
       " 'CGG': 74,\n",
       " 'TAC': 591,\n",
       " 'ACT': 660,\n",
       " 'GCT': 509,\n",
       " 'ATC': 336,\n",
       " 'AGC': 292,\n",
       " 'TCC': 203,\n",
       " 'TTC': 509,\n",
       " 'CCA': 336,\n",
       " 'GAA': 524,\n",
       " 'GCA': 363,\n",
       " 'CTC': 276,\n",
       " 'TCT': 526,\n",
       " 'CTA': 543,\n",
       " 'ATT': 749,\n",
       " 'GGA': 272,\n",
       " 'GTG': 532,\n",
       " 'GTC': 265,\n",
       " 'AAT': 735,\n",
       " 'GTT': 686,\n",
       " 'CCT': 332,\n",
       " 'TCG': 110,\n",
       " 'GGC': 217,\n",
       " 'CAG': 424,\n",
       " 'GAC': 328,\n",
       " 'CAC': 447,\n",
       " 'TAT': 601,\n",
       " 'GAG': 290,\n",
       " 'ATG': 701,\n",
       " 'GAT': 430,\n",
       " 'TAG': 414,\n",
       " 'ATA': 456,\n",
       " 'AAA': 899,\n",
       " 'GTA': 458,\n",
       " 'GCG': 86,\n",
       " 'AGG': 317,\n",
       " 'CCG': 70,\n",
       " 'TGG': 540,\n",
       " 'TTT': 984,\n",
       " 'CCC': 113,\n",
       " 'TTA': 853,\n",
       " 'TGT': 834,\n",
       " 'GGT': 442,\n",
       " 'CTT': 720,\n",
       " 'ACA': 789,\n",
       " 'AAC': 595,\n",
       " 'AGT': 493,\n",
       " 'AAG': 564}"
      ]
     },
     "execution_count": 57,
     "metadata": {},
     "output_type": "execute_result"
    }
   ],
   "source": [
    "dict_3char"
   ]
  },
  {
   "cell_type": "markdown",
   "metadata": {},
   "source": [
    "### หา sequence ที่มีขนาดติดกัน 4 ตัว"
   ]
  },
  {
   "cell_type": "code",
   "execution_count": 76,
   "metadata": {},
   "outputs": [
    {
     "data": {
      "text/plain": [
       "'ATTAAAGGTTT'"
      ]
     },
     "execution_count": 76,
     "metadata": {},
     "output_type": "execute_result"
    }
   ],
   "source": [
    "'ATTAAAGGTTT'"
   ]
  },
  {
   "cell_type": "code",
   "execution_count": 77,
   "metadata": {},
   "outputs": [],
   "source": [
    "def populate4charstring(seq):\n",
    "    str_list = list()\n",
    "    for i in range(len(seq)-3) :\n",
    "          str_list.append(seq[i:i+4])\n",
    "    return str_list"
   ]
  },
  {
   "cell_type": "code",
   "execution_count": 78,
   "metadata": {},
   "outputs": [
    {
     "data": {
      "text/plain": [
       "['ATTA', 'TTAA', 'TAAA', 'AAAG', 'AAGG', 'AGGT', 'GGTT', 'GTTT']"
      ]
     },
     "execution_count": 78,
     "metadata": {},
     "output_type": "execute_result"
    }
   ],
   "source": [
    "populate4charstring('ATTAAAGGTTT')"
   ]
  },
  {
   "cell_type": "code",
   "execution_count": 79,
   "metadata": {},
   "outputs": [],
   "source": [
    "list_all_4char = list()\n",
    "for row in range(DNAseq.shape[0] ):\n",
    "    list_all_4char  =  list_all_4char + populate3charstring(DNAseq.iloc[row][0])"
   ]
  },
  {
   "cell_type": "code",
   "execution_count": 80,
   "metadata": {},
   "outputs": [
    {
     "data": {
      "text/plain": [
       "28619"
      ]
     },
     "execution_count": 80,
     "metadata": {},
     "output_type": "execute_result"
    }
   ],
   "source": [
    "len(list_all_4char)"
   ]
  },
  {
   "cell_type": "code",
   "execution_count": 81,
   "metadata": {},
   "outputs": [],
   "source": [
    "unique_4char = list(set(list_all_4char))"
   ]
  },
  {
   "cell_type": "code",
   "execution_count": 82,
   "metadata": {},
   "outputs": [
    {
     "data": {
      "text/plain": [
       "256"
      ]
     },
     "execution_count": 82,
     "metadata": {},
     "output_type": "execute_result"
    }
   ],
   "source": [
    "len(unique_4char)"
   ]
  },
  {
   "cell_type": "markdown",
   "metadata": {},
   "source": [
    "### ขนาดตัวที่4ที่มีค่าที่เกิดขึ้นซ้ำกันมากที่สุดเป็นเท่าไร"
   ]
  },
  {
   "cell_type": "code",
   "execution_count": 85,
   "metadata": {},
   "outputs": [],
   "source": [
    "dict_4char = {}\n",
    "for sub_str in unique_4char:\n",
    "    num = 0\n",
    "    for s in list_all_4char:\n",
    "        if sub_str == s:\n",
    "            num += 1\n",
    "    dict_4char[sub_str] = num   "
   ]
  },
  {
   "cell_type": "code",
   "execution_count": 86,
   "metadata": {},
   "outputs": [
    {
     "data": {
      "text/plain": [
       "211"
      ]
     },
     "execution_count": 86,
     "metadata": {},
     "output_type": "execute_result"
    }
   ],
   "source": [
    "dict_4char['ATTA']"
   ]
  },
  {
   "cell_type": "code",
   "execution_count": 87,
   "metadata": {},
   "outputs": [
    {
     "data": {
      "text/plain": [
       "{'GTTT': 216,\n",
       " 'GTGT': 181,\n",
       " 'CCTG': 63,\n",
       " 'CCAG': 75,\n",
       " 'ATGT': 202,\n",
       " 'GTGC': 111,\n",
       " 'ACAT': 190,\n",
       " 'GATG': 166,\n",
       " 'GACT': 93,\n",
       " 'CCAT': 76,\n",
       " 'GTCT': 98,\n",
       " 'ACGG': 28,\n",
       " 'GGTC': 28,\n",
       " 'CTCT': 89,\n",
       " 'TAGT': 133,\n",
       " 'TGAG': 83,\n",
       " 'ATAG': 87,\n",
       " 'TGTT': 318,\n",
       " 'GTGA': 121,\n",
       " 'TAAC': 127,\n",
       " 'ACGC': 33,\n",
       " 'CCAC': 78,\n",
       " 'AGAC': 113,\n",
       " 'TCTT': 201,\n",
       " 'CGTT': 45,\n",
       " 'AGGT': 118,\n",
       " 'AAGT': 151,\n",
       " 'GGAT': 49,\n",
       " 'CAAC': 181,\n",
       " 'TGTG': 180,\n",
       " 'CGTC': 23,\n",
       " 'AAAT': 230,\n",
       " 'CATC': 92,\n",
       " 'TCTG': 103,\n",
       " 'TACG': 44,\n",
       " 'CCTT': 115,\n",
       " 'CCAA': 102,\n",
       " 'TCAG': 108,\n",
       " 'GAGT': 97,\n",
       " 'TTAG': 121,\n",
       " 'TCTC': 74,\n",
       " 'TGAC': 131,\n",
       " 'AAGA': 195,\n",
       " 'TAGC': 76,\n",
       " 'TTAC': 235,\n",
       " 'AATG': 220,\n",
       " 'ATCA': 135,\n",
       " 'TCAA': 188,\n",
       " 'CTAC': 118,\n",
       " 'AACC': 106,\n",
       " 'TCAC': 108,\n",
       " 'TTCA': 176,\n",
       " 'ATAT': 107,\n",
       " 'CGAC': 14,\n",
       " 'CAGC': 69,\n",
       " 'ATCC': 50,\n",
       " 'TGCA': 159,\n",
       " 'AACG': 43,\n",
       " 'TAGG': 55,\n",
       " 'AAAA': 272,\n",
       " 'TTTA': 277,\n",
       " 'GGAC': 63,\n",
       " 'AACT': 192,\n",
       " 'CAAG': 116,\n",
       " 'TTTG': 252,\n",
       " 'GATA': 77,\n",
       " 'AGGC': 59,\n",
       " 'GCTT': 158,\n",
       " 'CGCC': 13,\n",
       " 'GGTA': 118,\n",
       " 'GGGG': 15,\n",
       " 'TTAA': 242,\n",
       " 'GCGG': 14,\n",
       " 'CGGT': 29,\n",
       " 'AGCC': 45,\n",
       " 'CTGC': 105,\n",
       " 'TTTT': 294,\n",
       " 'GCAA': 112,\n",
       " 'GCAT': 77,\n",
       " 'CATA': 106,\n",
       " 'AAAG': 197,\n",
       " 'TTCG': 38,\n",
       " 'CCTC': 54,\n",
       " 'ACAC': 162,\n",
       " 'GGTT': 145,\n",
       " 'TATG': 184,\n",
       " 'TAAG': 96,\n",
       " 'GCTG': 159,\n",
       " 'ACCC': 55,\n",
       " 'TGCG': 31,\n",
       " 'CTTG': 160,\n",
       " 'ATCG': 21,\n",
       " 'TTAT': 234,\n",
       " 'TGTA': 189,\n",
       " 'CCCA': 35,\n",
       " 'CAGT': 108,\n",
       " 'AGTA': 105,\n",
       " 'CGGA': 16,\n",
       " 'GGAA': 97,\n",
       " 'CAGG': 81,\n",
       " 'AGGA': 87,\n",
       " 'ACCT': 135,\n",
       " 'GACA': 151,\n",
       " 'CTTA': 183,\n",
       " 'CTGG': 98,\n",
       " 'AGAA': 194,\n",
       " 'CGGC': 19,\n",
       " 'ATTC': 130,\n",
       " 'AAGG': 112,\n",
       " 'TACC': 105,\n",
       " 'ACAG': 158,\n",
       " 'CAGA': 162,\n",
       " 'GGAG': 60,\n",
       " 'TCCC': 26,\n",
       " 'CTCA': 121,\n",
       " 'CGAT': 31,\n",
       " 'CTAT': 161,\n",
       " 'CCGT': 26,\n",
       " 'GCCC': 16,\n",
       " 'AGTC': 74,\n",
       " 'AGCG': 22,\n",
       " 'AAAC': 182,\n",
       " 'ACCA': 139,\n",
       " 'GTAG': 112,\n",
       " 'TGGA': 134,\n",
       " 'GGGT': 55,\n",
       " 'ATAA': 152,\n",
       " 'CGCG': 12,\n",
       " 'TCAT': 123,\n",
       " 'GGCA': 78,\n",
       " 'AGAG': 129,\n",
       " 'GTAA': 121,\n",
       " 'TTCT': 205,\n",
       " 'AATC': 106,\n",
       " 'CACC': 95,\n",
       " 'TTTC': 150,\n",
       " 'ATGA': 179,\n",
       " 'AGAT': 140,\n",
       " 'TAAT': 209,\n",
       " 'CGTA': 39,\n",
       " 'GCTA': 133,\n",
       " 'AAGC': 94,\n",
       " 'AGCT': 140,\n",
       " 'CAAT': 169,\n",
       " 'TCCA': 83,\n",
       " 'GTGG': 109,\n",
       " 'TACA': 231,\n",
       " 'GAGC': 52,\n",
       " 'GAAC': 91,\n",
       " 'TTGT': 282,\n",
       " 'TTGA': 185,\n",
       " 'ATGG': 168,\n",
       " 'TAAA': 247,\n",
       " 'GTTA': 172,\n",
       " 'CACG': 39,\n",
       " 'CGCA': 38,\n",
       " 'TCCG': 15,\n",
       " 'GAAG': 148,\n",
       " 'CCGA': 16,\n",
       " 'GATT': 120,\n",
       " 'TATT': 199,\n",
       " 'CGTG': 57,\n",
       " 'GACC': 53,\n",
       " 'GCAC': 93,\n",
       " 'CATT': 152,\n",
       " 'ACTA': 163,\n",
       " 'GAGA': 77,\n",
       " 'ACTG': 154,\n",
       " 'ATTG': 181,\n",
       " 'TCGG': 22,\n",
       " 'CGAG': 11,\n",
       " 'ACTC': 94,\n",
       " 'CCCT': 47,\n",
       " 'AGGG': 52,\n",
       " 'TGGC': 106,\n",
       " 'GGCG': 19,\n",
       " 'TGAT': 195,\n",
       " 'GGGA': 30,\n",
       " 'CCTA': 99,\n",
       " 'ACGT': 61,\n",
       " 'GTTG': 194,\n",
       " 'GAAA': 160,\n",
       " 'ATTA': 211,\n",
       " 'GTCA': 96,\n",
       " 'CTTC': 128,\n",
       " 'ATCT': 124,\n",
       " 'TATA': 132,\n",
       " 'TCTA': 139,\n",
       " 'GCGC': 16,\n",
       " 'AATT': 262,\n",
       " 'GCGA': 19,\n",
       " 'ACTT': 238,\n",
       " 'CTGT': 160,\n",
       " 'GCAG': 76,\n",
       " 'CACA': 148,\n",
       " 'CTCG': 32,\n",
       " 'AACA': 245,\n",
       " 'CTTT': 242,\n",
       " 'GAAT': 117,\n",
       " 'ACGA': 33,\n",
       " 'CTCC': 31,\n",
       " 'GGCC': 30,\n",
       " 'ATGC': 146,\n",
       " 'TAGA': 141,\n",
       " 'GTAT': 91,\n",
       " 'CGAA': 35,\n",
       " 'AGTG': 138,\n",
       " 'GATC': 58,\n",
       " 'TGCT': 244,\n",
       " 'TGCC': 92,\n",
       " 'CCCC': 14,\n",
       " 'CGGG': 9,\n",
       " 'TCCT': 76,\n",
       " 'GTTC': 93,\n",
       " 'CCCG': 12,\n",
       " 'TCGA': 22,\n",
       " 'GGTG': 146,\n",
       " 'ATAC': 104,\n",
       " 'GGGC': 31,\n",
       " 'CGCT': 27,\n",
       " 'TGGG': 54,\n",
       " 'GTAC': 128,\n",
       " 'TGGT': 235,\n",
       " 'GACG': 28,\n",
       " 'GTCC': 43,\n",
       " 'CTAG': 87,\n",
       " 'TTGG': 157,\n",
       " 'GGCT': 87,\n",
       " 'GCCG': 15,\n",
       " 'CTGA': 106,\n",
       " 'TCGC': 23,\n",
       " 'CACT': 160,\n",
       " 'TCGT': 41,\n",
       " 'ACCG': 28,\n",
       " 'AGCA': 83,\n",
       " 'CCGC': 19,\n",
       " 'CTAA': 166,\n",
       " 'CATG': 118,\n",
       " 'AATA': 137,\n",
       " 'GAGG': 62,\n",
       " 'TATC': 75,\n",
       " 'GCTC': 53,\n",
       " 'GCCA': 75,\n",
       " 'GCGT': 37,\n",
       " 'TGTC': 138,\n",
       " 'TGAA': 188,\n",
       " 'ATTT': 220,\n",
       " 'TACT': 199,\n",
       " 'CAAA': 206,\n",
       " 'GTCG': 19,\n",
       " 'AGTT': 171,\n",
       " 'ACAA': 269,\n",
       " 'TTCC': 76,\n",
       " 'TTGC': 163,\n",
       " 'GCCT': 73,\n",
       " 'CCGG': 9}"
      ]
     },
     "execution_count": 87,
     "metadata": {},
     "output_type": "execute_result"
    }
   ],
   "source": [
    "dict_4char"
   ]
  },
  {
   "cell_type": "markdown",
   "metadata": {},
   "source": [
    "### ข้อที่3 สร้างตารางใหม่ที่มี 2 คอลัมน์ เเรกชื่อว่าภาษาอีสานเเละมีค่าในคอลัมน์ภาษาอีสานเดิมเเต่เปลี่ยนคำที่เป็น\"/\" ให้เป็น \",\" เเละคอลัมน์ที่ 2 ชื่อว้าภาษาไทย เเละมีค่าในคอลัมน์จากค่าคอลัมน์ภาษาไทยเดิมเเต่เปลี่ยน คำที่เป็น \"/\" ',\" จากสวัสดี/สุผู้สุคนเด้อ/จ้า สวัสดี/ทุกๆคน/นะคะ"
   ]
  },
  {
   "cell_type": "code",
   "execution_count": 88,
   "metadata": {},
   "outputs": [],
   "source": [
    "import pandas "
   ]
  },
  {
   "cell_type": "code",
   "execution_count": 89,
   "metadata": {},
   "outputs": [],
   "source": [
    "data1_PATH = \"C:\\\\Users\\\\KD\\\\Documents\\\\data.xlsx\""
   ]
  },
  {
   "cell_type": "code",
   "execution_count": 90,
   "metadata": {},
   "outputs": [],
   "source": [
    "data1_df = pandas.read_excel(data1_PATH)"
   ]
  },
  {
   "cell_type": "code",
   "execution_count": 91,
   "metadata": {},
   "outputs": [
    {
     "data": {
      "text/html": [
       "<div>\n",
       "<style scoped>\n",
       "    .dataframe tbody tr th:only-of-type {\n",
       "        vertical-align: middle;\n",
       "    }\n",
       "\n",
       "    .dataframe tbody tr th {\n",
       "        vertical-align: top;\n",
       "    }\n",
       "\n",
       "    .dataframe thead th {\n",
       "        text-align: right;\n",
       "    }\n",
       "</style>\n",
       "<table border=\"1\" class=\"dataframe\">\n",
       "  <thead>\n",
       "    <tr style=\"text-align: right;\">\n",
       "      <th></th>\n",
       "      <th>No</th>\n",
       "      <th>ภาษาอีสาน</th>\n",
       "      <th>ภาษาไทย</th>\n",
       "      <th>เริ่ม</th>\n",
       "      <th>จบ</th>\n",
       "      <th>จบ-เริ่ม</th>\n",
       "      <th>G2P</th>\n",
       "    </tr>\n",
       "  </thead>\n",
       "  <tbody>\n",
       "    <tr>\n",
       "      <td>0</td>\n",
       "      <td>1.0</td>\n",
       "      <td>สวัสดี/สุผู้สุคน/เด้อ/จ้า</td>\n",
       "      <td>สวัสดี/ทุก ๆ คน/นะ/คะ</td>\n",
       "      <td>00:00:16</td>\n",
       "      <td>00:00:18</td>\n",
       "      <td>00:00:02</td>\n",
       "      <td>s-a-z^-1 w-a-t^-1 d-ii-z^-0 *s-u-z^-1 *ph-uu-z...</td>\n",
       "    </tr>\n",
       "    <tr>\n",
       "      <td>1</td>\n",
       "      <td>2.0</td>\n",
       "      <td>กิน/ข้าว/ก่อน/เด้อ/จ้า/ ไผ/สิ/ถ่า/เค้า/ดาวน์</td>\n",
       "      <td>กิน/ข้าว/ก่อน/นะ/จ้ะ/ใคร/จะ/รอ/เค้า/ดาวน์</td>\n",
       "      <td>00:02:14</td>\n",
       "      <td>00:02:18</td>\n",
       "      <td>00:00:04</td>\n",
       "      <td>k-i-n^-0 *kh-aa-w^-2 *k-@@-n^-1 *d-qq-z^-2 *c-...</td>\n",
       "    </tr>\n",
       "    <tr>\n",
       "      <td>2</td>\n",
       "      <td>3.0</td>\n",
       "      <td>เค้า/ดาว/กะ/ขอ/ให้/เค้า/ดาว/อย่าง/มี/ความ/สุข/...</td>\n",
       "      <td>เค้า/ดาวน์/ก็/ขอ/ให้/เค้า/ดาน์/อย่าง/มี/ความ/ส...</td>\n",
       "      <td>00:02:21</td>\n",
       "      <td>00:02:25</td>\n",
       "      <td>00:00:04</td>\n",
       "      <td>kh-a-w^-3 *d-aa-w^-0 *k-a-z^-1 *kh-@@-z^-4 *h-...</td>\n",
       "    </tr>\n",
       "    <tr>\n",
       "      <td>3</td>\n",
       "      <td>4.0</td>\n",
       "      <td>นี่/จ้า/อา/หาร/เย็น/เป็น/ลา/ซาน/ย่า/กับ/ผัก/สด...</td>\n",
       "      <td>นี่/จ้า/อา/หาร/เย็น/เป็น/ลา/ซาน/ย่า/กับ/ผัก/สด...</td>\n",
       "      <td>00:02:33</td>\n",
       "      <td>00:02:37</td>\n",
       "      <td>00:00:04</td>\n",
       "      <td>n-ii-z^-2 *c-aa-z^-2 *z-aa-z^-0 *h-aa-n^-4 *j-...</td>\n",
       "    </tr>\n",
       "    <tr>\n",
       "      <td>4</td>\n",
       "      <td>5.0</td>\n",
       "      <td>ขอ/ให้/เชิญ/แซ่บ/เด้อ/พี่/น้อง</td>\n",
       "      <td>ขอ/ให้/เชิญ/อร่อย/นะ/ทุก/คน</td>\n",
       "      <td>00:02:38</td>\n",
       "      <td>00:02:41</td>\n",
       "      <td>00:00:03</td>\n",
       "      <td>kh-@@-z^-4 *h-a-j^-2 *ch-qq-n^-0 *s-xx-p^-2 *d...</td>\n",
       "    </tr>\n",
       "    <tr>\n",
       "      <td>5</td>\n",
       "      <td>6.0</td>\n",
       "      <td>แมท/ธิว/บอก/ว่า/อี/แม่/อย่า/พึ่ง/หลับ/เด้อ</td>\n",
       "      <td>แมท/ธิว/บอก/ว่า/คุณ/แม่/อย่า/พึ่ง/หลับ/นะ</td>\n",
       "      <td>00:03:08</td>\n",
       "      <td>00:03:08</td>\n",
       "      <td>00:00:00</td>\n",
       "      <td>m-xx-t^-1 *th-i-w^-0 *b-@@-k^-1 *w-aa-z^-2 *z-...</td>\n",
       "    </tr>\n",
       "    <tr>\n",
       "      <td>6</td>\n",
       "      <td>7.0</td>\n",
       "      <td>เงียบ/แฮงจัด</td>\n",
       "      <td>เงียบ/มาก ๆ</td>\n",
       "      <td>00:09:51</td>\n",
       "      <td>00:09:53</td>\n",
       "      <td>00:00:02</td>\n",
       "      <td>ng-iia-p^-2 *h-xx-ng^-0 *c-a-t^-1</td>\n",
       "    </tr>\n",
       "    <tr>\n",
       "      <td>7</td>\n",
       "      <td>8.0</td>\n",
       "      <td>บ่/มี/ความ/รื่น/เริง/อี/หยัง/เลย/ข้าง/นอก</td>\n",
       "      <td>ไม่/มี/ความ/รื่น/เริง/อะ/ไร/เลย/ด้าน/นอก</td>\n",
       "      <td>00:10:07</td>\n",
       "      <td>00:10:11</td>\n",
       "      <td>00:00:04</td>\n",
       "      <td>b-@@-z^-1 *m-ii-z^-0 *khw-aa-m^-0 *r-vv-n^-2 *...</td>\n",
       "    </tr>\n",
       "    <tr>\n",
       "      <td>8</td>\n",
       "      <td>9.0</td>\n",
       "      <td>มื้อ/นี้/สิ/เบิ่ง/พุ/ตอน/หก/ทุ่ม/จ่ะ</td>\n",
       "      <td>วัน/นี้/จะ/ดู/พุ/ตอน/หก/ทุ่ม/นะ/คะ</td>\n",
       "      <td>00:10:29</td>\n",
       "      <td>00:10:33</td>\n",
       "      <td>00:00:04</td>\n",
       "      <td>m-vv-z^-3 *n-ii-z^-3 *s-i-z^-1 *b-q-ng^-1 *ph-...</td>\n",
       "    </tr>\n",
       "    <tr>\n",
       "      <td>9</td>\n",
       "      <td>10.0</td>\n",
       "      <td>ถ้า/ฝน/ตก/หิ/มะ/ตก/คึ/สิ/บ่/ได้/ออก/ไป</td>\n",
       "      <td>ถ้า/ฝน/ตก/หิ/มะ/ตก/คง/จะ/ไม่/ได้/ออก/ไป</td>\n",
       "      <td>00:10:40</td>\n",
       "      <td>00:10:43</td>\n",
       "      <td>00:00:03</td>\n",
       "      <td>th-aa-z^-2 *f-o-n^-4 *t-o-k^-1 *h-i-z^-1 *m-a-...</td>\n",
       "    </tr>\n",
       "    <tr>\n",
       "      <td>10</td>\n",
       "      <td>11.0</td>\n",
       "      <td>ปี/ที่/แล้ว/ออก/ไป/เบิ่ง/เขา/จุด/พุ/มัน/เป็น/ฝ...</td>\n",
       "      <td>ปี/ที่/แล้ว/ออก/ไป/ดู/เขา/จุด/พุ/มัน/เป็น/ฝน/ห...</td>\n",
       "      <td>00:10:52</td>\n",
       "      <td>00:10:56</td>\n",
       "      <td>00:00:04</td>\n",
       "      <td>p-ii-z^-0 *th-ii-z^-2 *l-xx-w^-3 *z-@@-k^-1 *p...</td>\n",
       "    </tr>\n",
       "    <tr>\n",
       "      <td>11</td>\n",
       "      <td>12.0</td>\n",
       "      <td>เพิ่น/ก้ม/แบบ/คน/เมา/นะ/จ้ะ</td>\n",
       "      <td>เขา/ก้ม/แบบ/คน/เมา/อ่ะ/ค่ะ</td>\n",
       "      <td>00:11:09</td>\n",
       "      <td>00:11:12</td>\n",
       "      <td>00:00:03</td>\n",
       "      <td>ph-qq-n^-2 *k-o-m^-3 *b-xx-p^-1 *kh-o-n^-0 *m-...</td>\n",
       "    </tr>\n",
       "    <tr>\n",
       "      <td>12</td>\n",
       "      <td>13.0</td>\n",
       "      <td>ก้ม/ก้ม/ส่อง/พุ/เพิ่น/จุด/ละ/เพิ่น/กะ/ก้ม/ส่อง...</td>\n",
       "      <td>ก้ม/ก้ม/ส่อง/พุ/เขา/จุด/ละ/เขา/ก็/ก้ม/ส่อง/เขา...</td>\n",
       "      <td>00:11:14</td>\n",
       "      <td>00:11:18</td>\n",
       "      <td>00:00:04</td>\n",
       "      <td>k-o-m^-3 *k-o-m^-3 *s-@-ng^-1 *ph-u-z^-3 *ph-q...</td>\n",
       "    </tr>\n",
       "    <tr>\n",
       "      <td>13</td>\n",
       "      <td>14.0</td>\n",
       "      <td>เพิ่น/สิ/โซ/กล้าม/เพิ่น/หั่น/นะ/พี่น้อง</td>\n",
       "      <td>เขา/จะ/โชว์/กล้าม/เขา/นั่น/แหละ/ทุกคน</td>\n",
       "      <td>00:13:11</td>\n",
       "      <td>00:13:13</td>\n",
       "      <td>00:00:02</td>\n",
       "      <td>ph-qq-n^-2 *s-i-z^-1 *s-oo-z^-0 *kl-aa-m^-2 *p...</td>\n",
       "    </tr>\n",
       "    <tr>\n",
       "      <td>14</td>\n",
       "      <td>15.0</td>\n",
       "      <td>โอ/เค/จ้า/สุผู้สุคน/มื้อ/นี้/จั่ง/ใด๋/กะ/ขอบ/ค...</td>\n",
       "      <td>โอ/เค/จ้า/ทุก ๆ  คน/วัน/นี้/ยัง/ไง/ก็/ขอบ/คุณ/...</td>\n",
       "      <td>00:15:23</td>\n",
       "      <td>00:15:26</td>\n",
       "      <td>00:00:03</td>\n",
       "      <td>z-oo-z^-0 *kh-ee-z^-0 *c-aa-z^-2\\n*s-u-z^-1 *p...</td>\n",
       "    </tr>\n",
       "    <tr>\n",
       "      <td>15</td>\n",
       "      <td>16.0</td>\n",
       "      <td>จ้า/พ้อ/กัน/ใหม่/ใน/คลิป/วิ/ดี/โอ/หน้า/สวัสดี/...</td>\n",
       "      <td>จ้า/เจอ/กัน/ใหม่/ใน/คลิป/วิ/ดี/โอ/หน้า/สวัสดี/...</td>\n",
       "      <td>00:15:30</td>\n",
       "      <td>00:15:33</td>\n",
       "      <td>00:00:03</td>\n",
       "      <td>c-aa-z^-2 *ph-@@-z^-3 *k-a-n^-0 *m-a-j^-1 *n-a...</td>\n",
       "    </tr>\n",
       "    <tr>\n",
       "      <td>16</td>\n",
       "      <td>NaN</td>\n",
       "      <td>NaN</td>\n",
       "      <td>NaN</td>\n",
       "      <td>NaN</td>\n",
       "      <td>NaN</td>\n",
       "      <td>00:00:49</td>\n",
       "      <td>NaN</td>\n",
       "    </tr>\n",
       "  </tbody>\n",
       "</table>\n",
       "</div>"
      ],
      "text/plain": [
       "      No                                          ภาษาอีสาน  \\\n",
       "0    1.0                          สวัสดี/สุผู้สุคน/เด้อ/จ้า   \n",
       "1    2.0       กิน/ข้าว/ก่อน/เด้อ/จ้า/ ไผ/สิ/ถ่า/เค้า/ดาวน์   \n",
       "2    3.0  เค้า/ดาว/กะ/ขอ/ให้/เค้า/ดาว/อย่าง/มี/ความ/สุข/...   \n",
       "3    4.0  นี่/จ้า/อา/หาร/เย็น/เป็น/ลา/ซาน/ย่า/กับ/ผัก/สด...   \n",
       "4    5.0                     ขอ/ให้/เชิญ/แซ่บ/เด้อ/พี่/น้อง   \n",
       "5    6.0         แมท/ธิว/บอก/ว่า/อี/แม่/อย่า/พึ่ง/หลับ/เด้อ   \n",
       "6    7.0                                       เงียบ/แฮงจัด   \n",
       "7    8.0          บ่/มี/ความ/รื่น/เริง/อี/หยัง/เลย/ข้าง/นอก   \n",
       "8    9.0               มื้อ/นี้/สิ/เบิ่ง/พุ/ตอน/หก/ทุ่ม/จ่ะ   \n",
       "9   10.0             ถ้า/ฝน/ตก/หิ/มะ/ตก/คึ/สิ/บ่/ได้/ออก/ไป   \n",
       "10  11.0  ปี/ที่/แล้ว/ออก/ไป/เบิ่ง/เขา/จุด/พุ/มัน/เป็น/ฝ...   \n",
       "11  12.0                        เพิ่น/ก้ม/แบบ/คน/เมา/นะ/จ้ะ   \n",
       "12  13.0  ก้ม/ก้ม/ส่อง/พุ/เพิ่น/จุด/ละ/เพิ่น/กะ/ก้ม/ส่อง...   \n",
       "13  14.0            เพิ่น/สิ/โซ/กล้าม/เพิ่น/หั่น/นะ/พี่น้อง   \n",
       "14  15.0  โอ/เค/จ้า/สุผู้สุคน/มื้อ/นี้/จั่ง/ใด๋/กะ/ขอบ/ค...   \n",
       "15  16.0  จ้า/พ้อ/กัน/ใหม่/ใน/คลิป/วิ/ดี/โอ/หน้า/สวัสดี/...   \n",
       "16   NaN                                                NaN   \n",
       "\n",
       "                                              ภาษาไทย     เริ่ม        จบ  \\\n",
       "0                               สวัสดี/ทุก ๆ คน/นะ/คะ  00:00:16  00:00:18   \n",
       "1           กิน/ข้าว/ก่อน/นะ/จ้ะ/ใคร/จะ/รอ/เค้า/ดาวน์  00:02:14  00:02:18   \n",
       "2   เค้า/ดาวน์/ก็/ขอ/ให้/เค้า/ดาน์/อย่าง/มี/ความ/ส...  00:02:21  00:02:25   \n",
       "3   นี่/จ้า/อา/หาร/เย็น/เป็น/ลา/ซาน/ย่า/กับ/ผัก/สด...  00:02:33  00:02:37   \n",
       "4                         ขอ/ให้/เชิญ/อร่อย/นะ/ทุก/คน  00:02:38  00:02:41   \n",
       "5           แมท/ธิว/บอก/ว่า/คุณ/แม่/อย่า/พึ่ง/หลับ/นะ  00:03:08  00:03:08   \n",
       "6                                         เงียบ/มาก ๆ  00:09:51  00:09:53   \n",
       "7            ไม่/มี/ความ/รื่น/เริง/อะ/ไร/เลย/ด้าน/นอก  00:10:07  00:10:11   \n",
       "8                  วัน/นี้/จะ/ดู/พุ/ตอน/หก/ทุ่ม/นะ/คะ  00:10:29  00:10:33   \n",
       "9             ถ้า/ฝน/ตก/หิ/มะ/ตก/คง/จะ/ไม่/ได้/ออก/ไป  00:10:40  00:10:43   \n",
       "10  ปี/ที่/แล้ว/ออก/ไป/ดู/เขา/จุด/พุ/มัน/เป็น/ฝน/ห...  00:10:52  00:10:56   \n",
       "11                         เขา/ก้ม/แบบ/คน/เมา/อ่ะ/ค่ะ  00:11:09  00:11:12   \n",
       "12  ก้ม/ก้ม/ส่อง/พุ/เขา/จุด/ละ/เขา/ก็/ก้ม/ส่อง/เขา...  00:11:14  00:11:18   \n",
       "13              เขา/จะ/โชว์/กล้าม/เขา/นั่น/แหละ/ทุกคน  00:13:11  00:13:13   \n",
       "14  โอ/เค/จ้า/ทุก ๆ  คน/วัน/นี้/ยัง/ไง/ก็/ขอบ/คุณ/...  00:15:23  00:15:26   \n",
       "15  จ้า/เจอ/กัน/ใหม่/ใน/คลิป/วิ/ดี/โอ/หน้า/สวัสดี/...  00:15:30  00:15:33   \n",
       "16                                                NaN       NaN       NaN   \n",
       "\n",
       "    จบ-เริ่ม                                                G2P  \n",
       "0   00:00:02  s-a-z^-1 w-a-t^-1 d-ii-z^-0 *s-u-z^-1 *ph-uu-z...  \n",
       "1   00:00:04  k-i-n^-0 *kh-aa-w^-2 *k-@@-n^-1 *d-qq-z^-2 *c-...  \n",
       "2   00:00:04  kh-a-w^-3 *d-aa-w^-0 *k-a-z^-1 *kh-@@-z^-4 *h-...  \n",
       "3   00:00:04  n-ii-z^-2 *c-aa-z^-2 *z-aa-z^-0 *h-aa-n^-4 *j-...  \n",
       "4   00:00:03  kh-@@-z^-4 *h-a-j^-2 *ch-qq-n^-0 *s-xx-p^-2 *d...  \n",
       "5   00:00:00  m-xx-t^-1 *th-i-w^-0 *b-@@-k^-1 *w-aa-z^-2 *z-...  \n",
       "6   00:00:02                  ng-iia-p^-2 *h-xx-ng^-0 *c-a-t^-1  \n",
       "7   00:00:04  b-@@-z^-1 *m-ii-z^-0 *khw-aa-m^-0 *r-vv-n^-2 *...  \n",
       "8   00:00:04  m-vv-z^-3 *n-ii-z^-3 *s-i-z^-1 *b-q-ng^-1 *ph-...  \n",
       "9   00:00:03  th-aa-z^-2 *f-o-n^-4 *t-o-k^-1 *h-i-z^-1 *m-a-...  \n",
       "10  00:00:04  p-ii-z^-0 *th-ii-z^-2 *l-xx-w^-3 *z-@@-k^-1 *p...  \n",
       "11  00:00:03  ph-qq-n^-2 *k-o-m^-3 *b-xx-p^-1 *kh-o-n^-0 *m-...  \n",
       "12  00:00:04  k-o-m^-3 *k-o-m^-3 *s-@-ng^-1 *ph-u-z^-3 *ph-q...  \n",
       "13  00:00:02  ph-qq-n^-2 *s-i-z^-1 *s-oo-z^-0 *kl-aa-m^-2 *p...  \n",
       "14  00:00:03  z-oo-z^-0 *kh-ee-z^-0 *c-aa-z^-2\\n*s-u-z^-1 *p...  \n",
       "15  00:00:03  c-aa-z^-2 *ph-@@-z^-3 *k-a-n^-0 *m-a-j^-1 *n-a...  \n",
       "16  00:00:49                                                NaN  "
      ]
     },
     "execution_count": 91,
     "metadata": {},
     "output_type": "execute_result"
    }
   ],
   "source": [
    "data1_df"
   ]
  },
  {
   "cell_type": "code",
   "execution_count": 92,
   "metadata": {},
   "outputs": [],
   "source": [
    "data1_df= data1_df.dropna()   "
   ]
  },
  {
   "cell_type": "code",
   "execution_count": 93,
   "metadata": {},
   "outputs": [
    {
     "data": {
      "text/plain": [
       "'สวัสดี, สุผู้สุคน, เด้อ, จ้า'"
      ]
     },
     "execution_count": 93,
     "metadata": {},
     "output_type": "execute_result"
    }
   ],
   "source": [
    "data1_df.iloc[0,1].replace(\"/\", \", \")"
   ]
  },
  {
   "cell_type": "code",
   "execution_count": 94,
   "metadata": {},
   "outputs": [
    {
     "data": {
      "text/html": [
       "<div>\n",
       "<style scoped>\n",
       "    .dataframe tbody tr th:only-of-type {\n",
       "        vertical-align: middle;\n",
       "    }\n",
       "\n",
       "    .dataframe tbody tr th {\n",
       "        vertical-align: top;\n",
       "    }\n",
       "\n",
       "    .dataframe thead th {\n",
       "        text-align: right;\n",
       "    }\n",
       "</style>\n",
       "<table border=\"1\" class=\"dataframe\">\n",
       "  <thead>\n",
       "    <tr style=\"text-align: right;\">\n",
       "      <th></th>\n",
       "      <th>No</th>\n",
       "      <th>ภาษาอีสาน</th>\n",
       "      <th>ภาษาไทย</th>\n",
       "      <th>เริ่ม</th>\n",
       "      <th>จบ</th>\n",
       "      <th>จบ-เริ่ม</th>\n",
       "      <th>G2P</th>\n",
       "    </tr>\n",
       "  </thead>\n",
       "  <tbody>\n",
       "    <tr>\n",
       "      <td>0</td>\n",
       "      <td>1.0</td>\n",
       "      <td>สวัสดี/สุผู้สุคน/เด้อ/จ้า</td>\n",
       "      <td>สวัสดี/ทุก ๆ คน/นะ/คะ</td>\n",
       "      <td>00:00:16</td>\n",
       "      <td>00:00:18</td>\n",
       "      <td>00:00:02</td>\n",
       "      <td>s-a-z^-1 w-a-t^-1 d-ii-z^-0 *s-u-z^-1 *ph-uu-z...</td>\n",
       "    </tr>\n",
       "    <tr>\n",
       "      <td>1</td>\n",
       "      <td>2.0</td>\n",
       "      <td>กิน/ข้าว/ก่อน/เด้อ/จ้า/ ไผ/สิ/ถ่า/เค้า/ดาวน์</td>\n",
       "      <td>กิน/ข้าว/ก่อน/นะ/จ้ะ/ใคร/จะ/รอ/เค้า/ดาวน์</td>\n",
       "      <td>00:02:14</td>\n",
       "      <td>00:02:18</td>\n",
       "      <td>00:00:04</td>\n",
       "      <td>k-i-n^-0 *kh-aa-w^-2 *k-@@-n^-1 *d-qq-z^-2 *c-...</td>\n",
       "    </tr>\n",
       "    <tr>\n",
       "      <td>2</td>\n",
       "      <td>3.0</td>\n",
       "      <td>เค้า/ดาว/กะ/ขอ/ให้/เค้า/ดาว/อย่าง/มี/ความ/สุข/...</td>\n",
       "      <td>เค้า/ดาวน์/ก็/ขอ/ให้/เค้า/ดาน์/อย่าง/มี/ความ/ส...</td>\n",
       "      <td>00:02:21</td>\n",
       "      <td>00:02:25</td>\n",
       "      <td>00:00:04</td>\n",
       "      <td>kh-a-w^-3 *d-aa-w^-0 *k-a-z^-1 *kh-@@-z^-4 *h-...</td>\n",
       "    </tr>\n",
       "    <tr>\n",
       "      <td>3</td>\n",
       "      <td>4.0</td>\n",
       "      <td>นี่/จ้า/อา/หาร/เย็น/เป็น/ลา/ซาน/ย่า/กับ/ผัก/สด...</td>\n",
       "      <td>นี่/จ้า/อา/หาร/เย็น/เป็น/ลา/ซาน/ย่า/กับ/ผัก/สด...</td>\n",
       "      <td>00:02:33</td>\n",
       "      <td>00:02:37</td>\n",
       "      <td>00:00:04</td>\n",
       "      <td>n-ii-z^-2 *c-aa-z^-2 *z-aa-z^-0 *h-aa-n^-4 *j-...</td>\n",
       "    </tr>\n",
       "    <tr>\n",
       "      <td>4</td>\n",
       "      <td>5.0</td>\n",
       "      <td>ขอ/ให้/เชิญ/แซ่บ/เด้อ/พี่/น้อง</td>\n",
       "      <td>ขอ/ให้/เชิญ/อร่อย/นะ/ทุก/คน</td>\n",
       "      <td>00:02:38</td>\n",
       "      <td>00:02:41</td>\n",
       "      <td>00:00:03</td>\n",
       "      <td>kh-@@-z^-4 *h-a-j^-2 *ch-qq-n^-0 *s-xx-p^-2 *d...</td>\n",
       "    </tr>\n",
       "    <tr>\n",
       "      <td>5</td>\n",
       "      <td>6.0</td>\n",
       "      <td>แมท/ธิว/บอก/ว่า/อี/แม่/อย่า/พึ่ง/หลับ/เด้อ</td>\n",
       "      <td>แมท/ธิว/บอก/ว่า/คุณ/แม่/อย่า/พึ่ง/หลับ/นะ</td>\n",
       "      <td>00:03:08</td>\n",
       "      <td>00:03:08</td>\n",
       "      <td>00:00:00</td>\n",
       "      <td>m-xx-t^-1 *th-i-w^-0 *b-@@-k^-1 *w-aa-z^-2 *z-...</td>\n",
       "    </tr>\n",
       "    <tr>\n",
       "      <td>6</td>\n",
       "      <td>7.0</td>\n",
       "      <td>เงียบ/แฮงจัด</td>\n",
       "      <td>เงียบ/มาก ๆ</td>\n",
       "      <td>00:09:51</td>\n",
       "      <td>00:09:53</td>\n",
       "      <td>00:00:02</td>\n",
       "      <td>ng-iia-p^-2 *h-xx-ng^-0 *c-a-t^-1</td>\n",
       "    </tr>\n",
       "    <tr>\n",
       "      <td>7</td>\n",
       "      <td>8.0</td>\n",
       "      <td>บ่/มี/ความ/รื่น/เริง/อี/หยัง/เลย/ข้าง/นอก</td>\n",
       "      <td>ไม่/มี/ความ/รื่น/เริง/อะ/ไร/เลย/ด้าน/นอก</td>\n",
       "      <td>00:10:07</td>\n",
       "      <td>00:10:11</td>\n",
       "      <td>00:00:04</td>\n",
       "      <td>b-@@-z^-1 *m-ii-z^-0 *khw-aa-m^-0 *r-vv-n^-2 *...</td>\n",
       "    </tr>\n",
       "    <tr>\n",
       "      <td>8</td>\n",
       "      <td>9.0</td>\n",
       "      <td>มื้อ/นี้/สิ/เบิ่ง/พุ/ตอน/หก/ทุ่ม/จ่ะ</td>\n",
       "      <td>วัน/นี้/จะ/ดู/พุ/ตอน/หก/ทุ่ม/นะ/คะ</td>\n",
       "      <td>00:10:29</td>\n",
       "      <td>00:10:33</td>\n",
       "      <td>00:00:04</td>\n",
       "      <td>m-vv-z^-3 *n-ii-z^-3 *s-i-z^-1 *b-q-ng^-1 *ph-...</td>\n",
       "    </tr>\n",
       "    <tr>\n",
       "      <td>9</td>\n",
       "      <td>10.0</td>\n",
       "      <td>ถ้า/ฝน/ตก/หิ/มะ/ตก/คึ/สิ/บ่/ได้/ออก/ไป</td>\n",
       "      <td>ถ้า/ฝน/ตก/หิ/มะ/ตก/คง/จะ/ไม่/ได้/ออก/ไป</td>\n",
       "      <td>00:10:40</td>\n",
       "      <td>00:10:43</td>\n",
       "      <td>00:00:03</td>\n",
       "      <td>th-aa-z^-2 *f-o-n^-4 *t-o-k^-1 *h-i-z^-1 *m-a-...</td>\n",
       "    </tr>\n",
       "    <tr>\n",
       "      <td>10</td>\n",
       "      <td>11.0</td>\n",
       "      <td>ปี/ที่/แล้ว/ออก/ไป/เบิ่ง/เขา/จุด/พุ/มัน/เป็น/ฝ...</td>\n",
       "      <td>ปี/ที่/แล้ว/ออก/ไป/ดู/เขา/จุด/พุ/มัน/เป็น/ฝน/ห...</td>\n",
       "      <td>00:10:52</td>\n",
       "      <td>00:10:56</td>\n",
       "      <td>00:00:04</td>\n",
       "      <td>p-ii-z^-0 *th-ii-z^-2 *l-xx-w^-3 *z-@@-k^-1 *p...</td>\n",
       "    </tr>\n",
       "    <tr>\n",
       "      <td>11</td>\n",
       "      <td>12.0</td>\n",
       "      <td>เพิ่น/ก้ม/แบบ/คน/เมา/นะ/จ้ะ</td>\n",
       "      <td>เขา/ก้ม/แบบ/คน/เมา/อ่ะ/ค่ะ</td>\n",
       "      <td>00:11:09</td>\n",
       "      <td>00:11:12</td>\n",
       "      <td>00:00:03</td>\n",
       "      <td>ph-qq-n^-2 *k-o-m^-3 *b-xx-p^-1 *kh-o-n^-0 *m-...</td>\n",
       "    </tr>\n",
       "    <tr>\n",
       "      <td>12</td>\n",
       "      <td>13.0</td>\n",
       "      <td>ก้ม/ก้ม/ส่อง/พุ/เพิ่น/จุด/ละ/เพิ่น/กะ/ก้ม/ส่อง...</td>\n",
       "      <td>ก้ม/ก้ม/ส่อง/พุ/เขา/จุด/ละ/เขา/ก็/ก้ม/ส่อง/เขา...</td>\n",
       "      <td>00:11:14</td>\n",
       "      <td>00:11:18</td>\n",
       "      <td>00:00:04</td>\n",
       "      <td>k-o-m^-3 *k-o-m^-3 *s-@-ng^-1 *ph-u-z^-3 *ph-q...</td>\n",
       "    </tr>\n",
       "    <tr>\n",
       "      <td>13</td>\n",
       "      <td>14.0</td>\n",
       "      <td>เพิ่น/สิ/โซ/กล้าม/เพิ่น/หั่น/นะ/พี่น้อง</td>\n",
       "      <td>เขา/จะ/โชว์/กล้าม/เขา/นั่น/แหละ/ทุกคน</td>\n",
       "      <td>00:13:11</td>\n",
       "      <td>00:13:13</td>\n",
       "      <td>00:00:02</td>\n",
       "      <td>ph-qq-n^-2 *s-i-z^-1 *s-oo-z^-0 *kl-aa-m^-2 *p...</td>\n",
       "    </tr>\n",
       "    <tr>\n",
       "      <td>14</td>\n",
       "      <td>15.0</td>\n",
       "      <td>โอ/เค/จ้า/สุผู้สุคน/มื้อ/นี้/จั่ง/ใด๋/กะ/ขอบ/ค...</td>\n",
       "      <td>โอ/เค/จ้า/ทุก ๆ  คน/วัน/นี้/ยัง/ไง/ก็/ขอบ/คุณ/...</td>\n",
       "      <td>00:15:23</td>\n",
       "      <td>00:15:26</td>\n",
       "      <td>00:00:03</td>\n",
       "      <td>z-oo-z^-0 *kh-ee-z^-0 *c-aa-z^-2\\n*s-u-z^-1 *p...</td>\n",
       "    </tr>\n",
       "    <tr>\n",
       "      <td>15</td>\n",
       "      <td>16.0</td>\n",
       "      <td>จ้า/พ้อ/กัน/ใหม่/ใน/คลิป/วิ/ดี/โอ/หน้า/สวัสดี/...</td>\n",
       "      <td>จ้า/เจอ/กัน/ใหม่/ใน/คลิป/วิ/ดี/โอ/หน้า/สวัสดี/...</td>\n",
       "      <td>00:15:30</td>\n",
       "      <td>00:15:33</td>\n",
       "      <td>00:00:03</td>\n",
       "      <td>c-aa-z^-2 *ph-@@-z^-3 *k-a-n^-0 *m-a-j^-1 *n-a...</td>\n",
       "    </tr>\n",
       "  </tbody>\n",
       "</table>\n",
       "</div>"
      ],
      "text/plain": [
       "      No                                          ภาษาอีสาน  \\\n",
       "0    1.0                          สวัสดี/สุผู้สุคน/เด้อ/จ้า   \n",
       "1    2.0       กิน/ข้าว/ก่อน/เด้อ/จ้า/ ไผ/สิ/ถ่า/เค้า/ดาวน์   \n",
       "2    3.0  เค้า/ดาว/กะ/ขอ/ให้/เค้า/ดาว/อย่าง/มี/ความ/สุข/...   \n",
       "3    4.0  นี่/จ้า/อา/หาร/เย็น/เป็น/ลา/ซาน/ย่า/กับ/ผัก/สด...   \n",
       "4    5.0                     ขอ/ให้/เชิญ/แซ่บ/เด้อ/พี่/น้อง   \n",
       "5    6.0         แมท/ธิว/บอก/ว่า/อี/แม่/อย่า/พึ่ง/หลับ/เด้อ   \n",
       "6    7.0                                       เงียบ/แฮงจัด   \n",
       "7    8.0          บ่/มี/ความ/รื่น/เริง/อี/หยัง/เลย/ข้าง/นอก   \n",
       "8    9.0               มื้อ/นี้/สิ/เบิ่ง/พุ/ตอน/หก/ทุ่ม/จ่ะ   \n",
       "9   10.0             ถ้า/ฝน/ตก/หิ/มะ/ตก/คึ/สิ/บ่/ได้/ออก/ไป   \n",
       "10  11.0  ปี/ที่/แล้ว/ออก/ไป/เบิ่ง/เขา/จุด/พุ/มัน/เป็น/ฝ...   \n",
       "11  12.0                        เพิ่น/ก้ม/แบบ/คน/เมา/นะ/จ้ะ   \n",
       "12  13.0  ก้ม/ก้ม/ส่อง/พุ/เพิ่น/จุด/ละ/เพิ่น/กะ/ก้ม/ส่อง...   \n",
       "13  14.0            เพิ่น/สิ/โซ/กล้าม/เพิ่น/หั่น/นะ/พี่น้อง   \n",
       "14  15.0  โอ/เค/จ้า/สุผู้สุคน/มื้อ/นี้/จั่ง/ใด๋/กะ/ขอบ/ค...   \n",
       "15  16.0  จ้า/พ้อ/กัน/ใหม่/ใน/คลิป/วิ/ดี/โอ/หน้า/สวัสดี/...   \n",
       "\n",
       "                                              ภาษาไทย     เริ่ม        จบ  \\\n",
       "0                               สวัสดี/ทุก ๆ คน/นะ/คะ  00:00:16  00:00:18   \n",
       "1           กิน/ข้าว/ก่อน/นะ/จ้ะ/ใคร/จะ/รอ/เค้า/ดาวน์  00:02:14  00:02:18   \n",
       "2   เค้า/ดาวน์/ก็/ขอ/ให้/เค้า/ดาน์/อย่าง/มี/ความ/ส...  00:02:21  00:02:25   \n",
       "3   นี่/จ้า/อา/หาร/เย็น/เป็น/ลา/ซาน/ย่า/กับ/ผัก/สด...  00:02:33  00:02:37   \n",
       "4                         ขอ/ให้/เชิญ/อร่อย/นะ/ทุก/คน  00:02:38  00:02:41   \n",
       "5           แมท/ธิว/บอก/ว่า/คุณ/แม่/อย่า/พึ่ง/หลับ/นะ  00:03:08  00:03:08   \n",
       "6                                         เงียบ/มาก ๆ  00:09:51  00:09:53   \n",
       "7            ไม่/มี/ความ/รื่น/เริง/อะ/ไร/เลย/ด้าน/นอก  00:10:07  00:10:11   \n",
       "8                  วัน/นี้/จะ/ดู/พุ/ตอน/หก/ทุ่ม/นะ/คะ  00:10:29  00:10:33   \n",
       "9             ถ้า/ฝน/ตก/หิ/มะ/ตก/คง/จะ/ไม่/ได้/ออก/ไป  00:10:40  00:10:43   \n",
       "10  ปี/ที่/แล้ว/ออก/ไป/ดู/เขา/จุด/พุ/มัน/เป็น/ฝน/ห...  00:10:52  00:10:56   \n",
       "11                         เขา/ก้ม/แบบ/คน/เมา/อ่ะ/ค่ะ  00:11:09  00:11:12   \n",
       "12  ก้ม/ก้ม/ส่อง/พุ/เขา/จุด/ละ/เขา/ก็/ก้ม/ส่อง/เขา...  00:11:14  00:11:18   \n",
       "13              เขา/จะ/โชว์/กล้าม/เขา/นั่น/แหละ/ทุกคน  00:13:11  00:13:13   \n",
       "14  โอ/เค/จ้า/ทุก ๆ  คน/วัน/นี้/ยัง/ไง/ก็/ขอบ/คุณ/...  00:15:23  00:15:26   \n",
       "15  จ้า/เจอ/กัน/ใหม่/ใน/คลิป/วิ/ดี/โอ/หน้า/สวัสดี/...  00:15:30  00:15:33   \n",
       "\n",
       "    จบ-เริ่ม                                                G2P  \n",
       "0   00:00:02  s-a-z^-1 w-a-t^-1 d-ii-z^-0 *s-u-z^-1 *ph-uu-z...  \n",
       "1   00:00:04  k-i-n^-0 *kh-aa-w^-2 *k-@@-n^-1 *d-qq-z^-2 *c-...  \n",
       "2   00:00:04  kh-a-w^-3 *d-aa-w^-0 *k-a-z^-1 *kh-@@-z^-4 *h-...  \n",
       "3   00:00:04  n-ii-z^-2 *c-aa-z^-2 *z-aa-z^-0 *h-aa-n^-4 *j-...  \n",
       "4   00:00:03  kh-@@-z^-4 *h-a-j^-2 *ch-qq-n^-0 *s-xx-p^-2 *d...  \n",
       "5   00:00:00  m-xx-t^-1 *th-i-w^-0 *b-@@-k^-1 *w-aa-z^-2 *z-...  \n",
       "6   00:00:02                  ng-iia-p^-2 *h-xx-ng^-0 *c-a-t^-1  \n",
       "7   00:00:04  b-@@-z^-1 *m-ii-z^-0 *khw-aa-m^-0 *r-vv-n^-2 *...  \n",
       "8   00:00:04  m-vv-z^-3 *n-ii-z^-3 *s-i-z^-1 *b-q-ng^-1 *ph-...  \n",
       "9   00:00:03  th-aa-z^-2 *f-o-n^-4 *t-o-k^-1 *h-i-z^-1 *m-a-...  \n",
       "10  00:00:04  p-ii-z^-0 *th-ii-z^-2 *l-xx-w^-3 *z-@@-k^-1 *p...  \n",
       "11  00:00:03  ph-qq-n^-2 *k-o-m^-3 *b-xx-p^-1 *kh-o-n^-0 *m-...  \n",
       "12  00:00:04  k-o-m^-3 *k-o-m^-3 *s-@-ng^-1 *ph-u-z^-3 *ph-q...  \n",
       "13  00:00:02  ph-qq-n^-2 *s-i-z^-1 *s-oo-z^-0 *kl-aa-m^-2 *p...  \n",
       "14  00:00:03  z-oo-z^-0 *kh-ee-z^-0 *c-aa-z^-2\\n*s-u-z^-1 *p...  \n",
       "15  00:00:03  c-aa-z^-2 *ph-@@-z^-3 *k-a-n^-0 *m-a-j^-1 *n-a...  "
      ]
     },
     "execution_count": 94,
     "metadata": {},
     "output_type": "execute_result"
    }
   ],
   "source": [
    "data1_df"
   ]
  },
  {
   "cell_type": "code",
   "execution_count": 95,
   "metadata": {},
   "outputs": [],
   "source": [
    "def replacestr(col1):\n",
    "    co1 = col1.replace(\"/\", \", \")\n",
    "    return co1"
   ]
  },
  {
   "cell_type": "code",
   "execution_count": 96,
   "metadata": {},
   "outputs": [
    {
     "data": {
      "text/plain": [
       "'สวัสดี, สุผู้สุคน, เด้อ, จ้า'"
      ]
     },
     "execution_count": 96,
     "metadata": {},
     "output_type": "execute_result"
    }
   ],
   "source": [
    "replacestr(data1_df.iloc[0,1])"
   ]
  },
  {
   "cell_type": "code",
   "execution_count": 97,
   "metadata": {},
   "outputs": [],
   "source": [
    "list_1 = []\n",
    "list_2 = []\n",
    "for i in range(len(data1_df)):\n",
    "    list_1.append(replacestr(data1_df.iloc[i,1]))\n",
    "    list_2.append(replacestr(data1_df.iloc[i,2]))"
   ]
  },
  {
   "cell_type": "code",
   "execution_count": 98,
   "metadata": {},
   "outputs": [
    {
     "data": {
      "text/plain": [
       "['สวัสดี, สุผู้สุคน, เด้อ, จ้า',\n",
       " 'กิน, ข้าว, ก่อน, เด้อ, จ้า,  ไผ, สิ, ถ่า, เค้า, ดาวน์',\n",
       " 'เค้า, ดาว, กะ, ขอ, ให้, เค้า, ดาว, อย่าง, มี, ความ, สุข, นะ, จ้ะ',\n",
       " 'นี่, จ้า, อา, หาร, เย็น, เป็น, ลา, ซาน, ย่า, กับ, ผัก, สด, เด้อ, จ้า',\n",
       " 'ขอ, ให้, เชิญ, แซ่บ, เด้อ, พี่, น้อง',\n",
       " 'แมท, ธิว, บอก, ว่า, อี, แม่, อย่า, พึ่ง, หลับ, เด้อ',\n",
       " 'เงียบ, แฮงจัด',\n",
       " 'บ่, มี, ความ, รื่น, เริง, อี, หยัง, เลย, ข้าง, นอก',\n",
       " 'มื้อ, นี้, สิ, เบิ่ง, พุ, ตอน, หก, ทุ่ม, จ่ะ',\n",
       " 'ถ้า, ฝน, ตก, หิ, มะ, ตก, คึ, สิ, บ่, ได้, ออก, ไป',\n",
       " 'ปี, ที่, แล้ว, ออก, ไป, เบิ่ง, เขา, จุด, พุ, มัน, เป็น, ฝน, หิ, มะ, นะ, จ่ะ',\n",
       " 'เพิ่น, ก้ม, แบบ, คน, เมา, นะ, จ้ะ',\n",
       " 'ก้ม, ก้ม, ส่อง, พุ, เพิ่น, จุด, ละ, เพิ่น, กะ, ก้ม, ส่อง, เพิ่น, บ่, เงย, หน้า, ขึ้น, หั่น, นะ',\n",
       " 'เพิ่น, สิ, โซ, กล้าม, เพิ่น, หั่น, นะ, พี่น้อง',\n",
       " 'โอ, เค, จ้า, สุผู้สุคน, มื้อ, นี้, จั่ง, ใด๋, กะ, ขอบ, คุณ, สุผู้สุคน, ที่, แวะ, เวียน, เข้า, มา, ทัก, ทาย, กับ, ครัว, คุณ, สม, บูรณ์',\n",
       " 'จ้า, พ้อ, กัน, ใหม่, ใน, คลิป, วิ, ดี, โอ, หน้า, สวัสดี, ปี, ใหม่, บ้าย, บาย, จ้า']"
      ]
     },
     "execution_count": 98,
     "metadata": {},
     "output_type": "execute_result"
    }
   ],
   "source": [
    "list_1"
   ]
  },
  {
   "cell_type": "code",
   "execution_count": 99,
   "metadata": {},
   "outputs": [
    {
     "data": {
      "text/plain": [
       "['สวัสดี, ทุก ๆ คน, นะ, คะ',\n",
       " 'กิน, ข้าว, ก่อน, นะ, จ้ะ, ใคร, จะ, รอ, เค้า, ดาวน์',\n",
       " 'เค้า, ดาวน์, ก็, ขอ, ให้, เค้า, ดาน์, อย่าง, มี, ความ, สุข, นะ, จ้ะ',\n",
       " 'นี่, จ้า, อา, หาร, เย็น, เป็น, ลา, ซาน, ย่า, กับ, ผัก, สด, นะ, คะ',\n",
       " 'ขอ, ให้, เชิญ, อร่อย, นะ, ทุก, คน',\n",
       " 'แมท, ธิว, บอก, ว่า, คุณ, แม่, อย่า, พึ่ง, หลับ, นะ',\n",
       " 'เงียบ, มาก ๆ',\n",
       " 'ไม่, มี, ความ, รื่น, เริง, อะ, ไร, เลย, ด้าน, นอก',\n",
       " 'วัน, นี้, จะ, ดู, พุ, ตอน, หก, ทุ่ม, นะ, คะ',\n",
       " 'ถ้า, ฝน, ตก, หิ, มะ, ตก, คง, จะ, ไม่, ได้, ออก, ไป',\n",
       " 'ปี, ที่, แล้ว, ออก, ไป, ดู, เขา, จุด, พุ, มัน, เป็น, ฝน, หิ, มะ, นะ, คะ',\n",
       " 'เขา, ก้ม, แบบ, คน, เมา, อ่ะ, ค่ะ',\n",
       " 'ก้ม, ก้ม, ส่อง, พุ, เขา, จุด, ละ, เขา, ก็, ก้ม, ส่อง, เขา, ไม่, แหงน, หน้า, ขึ้น, นั่น, แหละ',\n",
       " 'เขา, จะ, โชว์, กล้าม, เขา, นั่น, แหละ, ทุกคน',\n",
       " 'โอ, เค, จ้า, ทุก ๆ  คน, วัน, นี้, ยัง, ไง, ก็, ขอบ, คุณ, ทุก ๆ  คน, ที่, แวะ, เวียน, เข้า, มา, ทัก, ทาย, กับ, ครัว, คุณ, สม, บูรณ์',\n",
       " 'จ้า, เจอ, กัน, ใหม่, ใน, คลิป, วิ, ดี, โอ, หน้า, สวัสดี, ปี, ใหม่, บ้าย, บาย, จ้า']"
      ]
     },
     "execution_count": 99,
     "metadata": {},
     "output_type": "execute_result"
    }
   ],
   "source": [
    "list_2"
   ]
  },
  {
   "cell_type": "code",
   "execution_count": 100,
   "metadata": {},
   "outputs": [
    {
     "name": "stderr",
     "output_type": "stream",
     "text": [
      "C:\\Users\\KD\\Miniconda3\\lib\\site-packages\\ipykernel_launcher.py:1: SettingWithCopyWarning: \n",
      "A value is trying to be set on a copy of a slice from a DataFrame.\n",
      "Try using .loc[row_indexer,col_indexer] = value instead\n",
      "\n",
      "See the caveats in the documentation: http://pandas.pydata.org/pandas-docs/stable/user_guide/indexing.html#returning-a-view-versus-a-copy\n",
      "  \"\"\"Entry point for launching an IPython kernel.\n",
      "C:\\Users\\KD\\Miniconda3\\lib\\site-packages\\ipykernel_launcher.py:2: SettingWithCopyWarning: \n",
      "A value is trying to be set on a copy of a slice from a DataFrame.\n",
      "Try using .loc[row_indexer,col_indexer] = value instead\n",
      "\n",
      "See the caveats in the documentation: http://pandas.pydata.org/pandas-docs/stable/user_guide/indexing.html#returning-a-view-versus-a-copy\n",
      "  \n"
     ]
    }
   ],
   "source": [
    "data1_df['ภาษาอีสานใหม่'] = list_1\n",
    "data1_df['ภาษาไทยใหม่'] = list_2"
   ]
  },
  {
   "cell_type": "markdown",
   "metadata": {},
   "source": [
    "### สร้างตาราง dictionary"
   ]
  },
  {
   "cell_type": "code",
   "execution_count": 102,
   "metadata": {},
   "outputs": [],
   "source": [
    "L = ['ภาษาอีสาน' , 'ภาษาไทย'] \n",
    "Data = pd.DataFrame.from_records([],columns = L) \n",
    "for i in range(32):\n",
    "    df = pd.read_excel('C:\\\\Users\\\\KD\\\\Documents\\\\data.xlsx', sheet_name = i, usecols = 'B:C', skipfooter = 1)\n",
    "    Data = pd.concat([Data,df], axis = 0, ignore_index = True)"
   ]
  },
  {
   "cell_type": "code",
   "execution_count": 124,
   "metadata": {},
   "outputs": [
    {
     "data": {
      "text/html": [
       "<div>\n",
       "<style scoped>\n",
       "    .dataframe tbody tr th:only-of-type {\n",
       "        vertical-align: middle;\n",
       "    }\n",
       "\n",
       "    .dataframe tbody tr th {\n",
       "        vertical-align: top;\n",
       "    }\n",
       "\n",
       "    .dataframe thead th {\n",
       "        text-align: right;\n",
       "    }\n",
       "</style>\n",
       "<table border=\"1\" class=\"dataframe\">\n",
       "  <thead>\n",
       "    <tr style=\"text-align: right;\">\n",
       "      <th></th>\n",
       "      <th>No</th>\n",
       "      <th>ภาษาอีสาน</th>\n",
       "      <th>ภาษาไทย</th>\n",
       "      <th>เริ่ม</th>\n",
       "      <th>จบ</th>\n",
       "      <th>จบ-เริ่ม</th>\n",
       "      <th>G2P</th>\n",
       "      <th>ภาษาอีสานใหม่</th>\n",
       "      <th>ภาษาไทยใหม่</th>\n",
       "    </tr>\n",
       "  </thead>\n",
       "  <tbody>\n",
       "    <tr>\n",
       "      <td>0</td>\n",
       "      <td>1.0</td>\n",
       "      <td>สวัสดี/สุผู้สุคน/เด้อ/จ้า</td>\n",
       "      <td>สวัสดี/ทุก ๆ คน/นะ/คะ</td>\n",
       "      <td>00:00:16</td>\n",
       "      <td>00:00:18</td>\n",
       "      <td>00:00:02</td>\n",
       "      <td>s-a-z^-1 w-a-t^-1 d-ii-z^-0 *s-u-z^-1 *ph-uu-z...</td>\n",
       "      <td>สวัสดี, สุผู้สุคน, เด้อ, จ้า</td>\n",
       "      <td>สวัสดี, ทุก ๆ คน, นะ, คะ</td>\n",
       "    </tr>\n",
       "    <tr>\n",
       "      <td>1</td>\n",
       "      <td>2.0</td>\n",
       "      <td>กิน/ข้าว/ก่อน/เด้อ/จ้า/ ไผ/สิ/ถ่า/เค้า/ดาวน์</td>\n",
       "      <td>กิน/ข้าว/ก่อน/นะ/จ้ะ/ใคร/จะ/รอ/เค้า/ดาวน์</td>\n",
       "      <td>00:02:14</td>\n",
       "      <td>00:02:18</td>\n",
       "      <td>00:00:04</td>\n",
       "      <td>k-i-n^-0 *kh-aa-w^-2 *k-@@-n^-1 *d-qq-z^-2 *c-...</td>\n",
       "      <td>กิน, ข้าว, ก่อน, เด้อ, จ้า,  ไผ, สิ, ถ่า, เค้า...</td>\n",
       "      <td>กิน, ข้าว, ก่อน, นะ, จ้ะ, ใคร, จะ, รอ, เค้า, ด...</td>\n",
       "    </tr>\n",
       "    <tr>\n",
       "      <td>2</td>\n",
       "      <td>3.0</td>\n",
       "      <td>เค้า/ดาว/กะ/ขอ/ให้/เค้า/ดาว/อย่าง/มี/ความ/สุข/...</td>\n",
       "      <td>เค้า/ดาวน์/ก็/ขอ/ให้/เค้า/ดาน์/อย่าง/มี/ความ/ส...</td>\n",
       "      <td>00:02:21</td>\n",
       "      <td>00:02:25</td>\n",
       "      <td>00:00:04</td>\n",
       "      <td>kh-a-w^-3 *d-aa-w^-0 *k-a-z^-1 *kh-@@-z^-4 *h-...</td>\n",
       "      <td>เค้า, ดาว, กะ, ขอ, ให้, เค้า, ดาว, อย่าง, มี, ...</td>\n",
       "      <td>เค้า, ดาวน์, ก็, ขอ, ให้, เค้า, ดาน์, อย่าง, ม...</td>\n",
       "    </tr>\n",
       "    <tr>\n",
       "      <td>3</td>\n",
       "      <td>4.0</td>\n",
       "      <td>นี่/จ้า/อา/หาร/เย็น/เป็น/ลา/ซาน/ย่า/กับ/ผัก/สด...</td>\n",
       "      <td>นี่/จ้า/อา/หาร/เย็น/เป็น/ลา/ซาน/ย่า/กับ/ผัก/สด...</td>\n",
       "      <td>00:02:33</td>\n",
       "      <td>00:02:37</td>\n",
       "      <td>00:00:04</td>\n",
       "      <td>n-ii-z^-2 *c-aa-z^-2 *z-aa-z^-0 *h-aa-n^-4 *j-...</td>\n",
       "      <td>นี่, จ้า, อา, หาร, เย็น, เป็น, ลา, ซาน, ย่า, ก...</td>\n",
       "      <td>นี่, จ้า, อา, หาร, เย็น, เป็น, ลา, ซาน, ย่า, ก...</td>\n",
       "    </tr>\n",
       "    <tr>\n",
       "      <td>4</td>\n",
       "      <td>5.0</td>\n",
       "      <td>ขอ/ให้/เชิญ/แซ่บ/เด้อ/พี่/น้อง</td>\n",
       "      <td>ขอ/ให้/เชิญ/อร่อย/นะ/ทุก/คน</td>\n",
       "      <td>00:02:38</td>\n",
       "      <td>00:02:41</td>\n",
       "      <td>00:00:03</td>\n",
       "      <td>kh-@@-z^-4 *h-a-j^-2 *ch-qq-n^-0 *s-xx-p^-2 *d...</td>\n",
       "      <td>ขอ, ให้, เชิญ, แซ่บ, เด้อ, พี่, น้อง</td>\n",
       "      <td>ขอ, ให้, เชิญ, อร่อย, นะ, ทุก, คน</td>\n",
       "    </tr>\n",
       "    <tr>\n",
       "      <td>5</td>\n",
       "      <td>6.0</td>\n",
       "      <td>แมท/ธิว/บอก/ว่า/อี/แม่/อย่า/พึ่ง/หลับ/เด้อ</td>\n",
       "      <td>แมท/ธิว/บอก/ว่า/คุณ/แม่/อย่า/พึ่ง/หลับ/นะ</td>\n",
       "      <td>00:03:08</td>\n",
       "      <td>00:03:08</td>\n",
       "      <td>00:00:00</td>\n",
       "      <td>m-xx-t^-1 *th-i-w^-0 *b-@@-k^-1 *w-aa-z^-2 *z-...</td>\n",
       "      <td>แมท, ธิว, บอก, ว่า, อี, แม่, อย่า, พึ่ง, หลับ,...</td>\n",
       "      <td>แมท, ธิว, บอก, ว่า, คุณ, แม่, อย่า, พึ่ง, หลับ...</td>\n",
       "    </tr>\n",
       "    <tr>\n",
       "      <td>6</td>\n",
       "      <td>7.0</td>\n",
       "      <td>เงียบ/แฮงจัด</td>\n",
       "      <td>เงียบ/มาก ๆ</td>\n",
       "      <td>00:09:51</td>\n",
       "      <td>00:09:53</td>\n",
       "      <td>00:00:02</td>\n",
       "      <td>ng-iia-p^-2 *h-xx-ng^-0 *c-a-t^-1</td>\n",
       "      <td>เงียบ, แฮงจัด</td>\n",
       "      <td>เงียบ, มาก ๆ</td>\n",
       "    </tr>\n",
       "    <tr>\n",
       "      <td>7</td>\n",
       "      <td>8.0</td>\n",
       "      <td>บ่/มี/ความ/รื่น/เริง/อี/หยัง/เลย/ข้าง/นอก</td>\n",
       "      <td>ไม่/มี/ความ/รื่น/เริง/อะ/ไร/เลย/ด้าน/นอก</td>\n",
       "      <td>00:10:07</td>\n",
       "      <td>00:10:11</td>\n",
       "      <td>00:00:04</td>\n",
       "      <td>b-@@-z^-1 *m-ii-z^-0 *khw-aa-m^-0 *r-vv-n^-2 *...</td>\n",
       "      <td>บ่, มี, ความ, รื่น, เริง, อี, หยัง, เลย, ข้าง,...</td>\n",
       "      <td>ไม่, มี, ความ, รื่น, เริง, อะ, ไร, เลย, ด้าน, นอก</td>\n",
       "    </tr>\n",
       "    <tr>\n",
       "      <td>8</td>\n",
       "      <td>9.0</td>\n",
       "      <td>มื้อ/นี้/สิ/เบิ่ง/พุ/ตอน/หก/ทุ่ม/จ่ะ</td>\n",
       "      <td>วัน/นี้/จะ/ดู/พุ/ตอน/หก/ทุ่ม/นะ/คะ</td>\n",
       "      <td>00:10:29</td>\n",
       "      <td>00:10:33</td>\n",
       "      <td>00:00:04</td>\n",
       "      <td>m-vv-z^-3 *n-ii-z^-3 *s-i-z^-1 *b-q-ng^-1 *ph-...</td>\n",
       "      <td>มื้อ, นี้, สิ, เบิ่ง, พุ, ตอน, หก, ทุ่ม, จ่ะ</td>\n",
       "      <td>วัน, นี้, จะ, ดู, พุ, ตอน, หก, ทุ่ม, นะ, คะ</td>\n",
       "    </tr>\n",
       "    <tr>\n",
       "      <td>9</td>\n",
       "      <td>10.0</td>\n",
       "      <td>ถ้า/ฝน/ตก/หิ/มะ/ตก/คึ/สิ/บ่/ได้/ออก/ไป</td>\n",
       "      <td>ถ้า/ฝน/ตก/หิ/มะ/ตก/คง/จะ/ไม่/ได้/ออก/ไป</td>\n",
       "      <td>00:10:40</td>\n",
       "      <td>00:10:43</td>\n",
       "      <td>00:00:03</td>\n",
       "      <td>th-aa-z^-2 *f-o-n^-4 *t-o-k^-1 *h-i-z^-1 *m-a-...</td>\n",
       "      <td>ถ้า, ฝน, ตก, หิ, มะ, ตก, คึ, สิ, บ่, ได้, ออก, ไป</td>\n",
       "      <td>ถ้า, ฝน, ตก, หิ, มะ, ตก, คง, จะ, ไม่, ได้, ออก...</td>\n",
       "    </tr>\n",
       "    <tr>\n",
       "      <td>10</td>\n",
       "      <td>11.0</td>\n",
       "      <td>ปี/ที่/แล้ว/ออก/ไป/เบิ่ง/เขา/จุด/พุ/มัน/เป็น/ฝ...</td>\n",
       "      <td>ปี/ที่/แล้ว/ออก/ไป/ดู/เขา/จุด/พุ/มัน/เป็น/ฝน/ห...</td>\n",
       "      <td>00:10:52</td>\n",
       "      <td>00:10:56</td>\n",
       "      <td>00:00:04</td>\n",
       "      <td>p-ii-z^-0 *th-ii-z^-2 *l-xx-w^-3 *z-@@-k^-1 *p...</td>\n",
       "      <td>ปี, ที่, แล้ว, ออก, ไป, เบิ่ง, เขา, จุด, พุ, ม...</td>\n",
       "      <td>ปี, ที่, แล้ว, ออก, ไป, ดู, เขา, จุด, พุ, มัน,...</td>\n",
       "    </tr>\n",
       "    <tr>\n",
       "      <td>11</td>\n",
       "      <td>12.0</td>\n",
       "      <td>เพิ่น/ก้ม/แบบ/คน/เมา/นะ/จ้ะ</td>\n",
       "      <td>เขา/ก้ม/แบบ/คน/เมา/อ่ะ/ค่ะ</td>\n",
       "      <td>00:11:09</td>\n",
       "      <td>00:11:12</td>\n",
       "      <td>00:00:03</td>\n",
       "      <td>ph-qq-n^-2 *k-o-m^-3 *b-xx-p^-1 *kh-o-n^-0 *m-...</td>\n",
       "      <td>เพิ่น, ก้ม, แบบ, คน, เมา, นะ, จ้ะ</td>\n",
       "      <td>เขา, ก้ม, แบบ, คน, เมา, อ่ะ, ค่ะ</td>\n",
       "    </tr>\n",
       "    <tr>\n",
       "      <td>12</td>\n",
       "      <td>13.0</td>\n",
       "      <td>ก้ม/ก้ม/ส่อง/พุ/เพิ่น/จุด/ละ/เพิ่น/กะ/ก้ม/ส่อง...</td>\n",
       "      <td>ก้ม/ก้ม/ส่อง/พุ/เขา/จุด/ละ/เขา/ก็/ก้ม/ส่อง/เขา...</td>\n",
       "      <td>00:11:14</td>\n",
       "      <td>00:11:18</td>\n",
       "      <td>00:00:04</td>\n",
       "      <td>k-o-m^-3 *k-o-m^-3 *s-@-ng^-1 *ph-u-z^-3 *ph-q...</td>\n",
       "      <td>ก้ม, ก้ม, ส่อง, พุ, เพิ่น, จุด, ละ, เพิ่น, กะ,...</td>\n",
       "      <td>ก้ม, ก้ม, ส่อง, พุ, เขา, จุด, ละ, เขา, ก็, ก้ม...</td>\n",
       "    </tr>\n",
       "    <tr>\n",
       "      <td>13</td>\n",
       "      <td>14.0</td>\n",
       "      <td>เพิ่น/สิ/โซ/กล้าม/เพิ่น/หั่น/นะ/พี่น้อง</td>\n",
       "      <td>เขา/จะ/โชว์/กล้าม/เขา/นั่น/แหละ/ทุกคน</td>\n",
       "      <td>00:13:11</td>\n",
       "      <td>00:13:13</td>\n",
       "      <td>00:00:02</td>\n",
       "      <td>ph-qq-n^-2 *s-i-z^-1 *s-oo-z^-0 *kl-aa-m^-2 *p...</td>\n",
       "      <td>เพิ่น, สิ, โซ, กล้าม, เพิ่น, หั่น, นะ, พี่น้อง</td>\n",
       "      <td>เขา, จะ, โชว์, กล้าม, เขา, นั่น, แหละ, ทุกคน</td>\n",
       "    </tr>\n",
       "    <tr>\n",
       "      <td>14</td>\n",
       "      <td>15.0</td>\n",
       "      <td>โอ/เค/จ้า/สุผู้สุคน/มื้อ/นี้/จั่ง/ใด๋/กะ/ขอบ/ค...</td>\n",
       "      <td>โอ/เค/จ้า/ทุก ๆ  คน/วัน/นี้/ยัง/ไง/ก็/ขอบ/คุณ/...</td>\n",
       "      <td>00:15:23</td>\n",
       "      <td>00:15:26</td>\n",
       "      <td>00:00:03</td>\n",
       "      <td>z-oo-z^-0 *kh-ee-z^-0 *c-aa-z^-2\\n*s-u-z^-1 *p...</td>\n",
       "      <td>โอ, เค, จ้า, สุผู้สุคน, มื้อ, นี้, จั่ง, ใด๋, ...</td>\n",
       "      <td>โอ, เค, จ้า, ทุก ๆ  คน, วัน, นี้, ยัง, ไง, ก็,...</td>\n",
       "    </tr>\n",
       "    <tr>\n",
       "      <td>15</td>\n",
       "      <td>16.0</td>\n",
       "      <td>จ้า/พ้อ/กัน/ใหม่/ใน/คลิป/วิ/ดี/โอ/หน้า/สวัสดี/...</td>\n",
       "      <td>จ้า/เจอ/กัน/ใหม่/ใน/คลิป/วิ/ดี/โอ/หน้า/สวัสดี/...</td>\n",
       "      <td>00:15:30</td>\n",
       "      <td>00:15:33</td>\n",
       "      <td>00:00:03</td>\n",
       "      <td>c-aa-z^-2 *ph-@@-z^-3 *k-a-n^-0 *m-a-j^-1 *n-a...</td>\n",
       "      <td>จ้า, พ้อ, กัน, ใหม่, ใน, คลิป, วิ, ดี, โอ, หน้...</td>\n",
       "      <td>จ้า, เจอ, กัน, ใหม่, ใน, คลิป, วิ, ดี, โอ, หน้...</td>\n",
       "    </tr>\n",
       "  </tbody>\n",
       "</table>\n",
       "</div>"
      ],
      "text/plain": [
       "      No                                          ภาษาอีสาน  \\\n",
       "0    1.0                          สวัสดี/สุผู้สุคน/เด้อ/จ้า   \n",
       "1    2.0       กิน/ข้าว/ก่อน/เด้อ/จ้า/ ไผ/สิ/ถ่า/เค้า/ดาวน์   \n",
       "2    3.0  เค้า/ดาว/กะ/ขอ/ให้/เค้า/ดาว/อย่าง/มี/ความ/สุข/...   \n",
       "3    4.0  นี่/จ้า/อา/หาร/เย็น/เป็น/ลา/ซาน/ย่า/กับ/ผัก/สด...   \n",
       "4    5.0                     ขอ/ให้/เชิญ/แซ่บ/เด้อ/พี่/น้อง   \n",
       "5    6.0         แมท/ธิว/บอก/ว่า/อี/แม่/อย่า/พึ่ง/หลับ/เด้อ   \n",
       "6    7.0                                       เงียบ/แฮงจัด   \n",
       "7    8.0          บ่/มี/ความ/รื่น/เริง/อี/หยัง/เลย/ข้าง/นอก   \n",
       "8    9.0               มื้อ/นี้/สิ/เบิ่ง/พุ/ตอน/หก/ทุ่ม/จ่ะ   \n",
       "9   10.0             ถ้า/ฝน/ตก/หิ/มะ/ตก/คึ/สิ/บ่/ได้/ออก/ไป   \n",
       "10  11.0  ปี/ที่/แล้ว/ออก/ไป/เบิ่ง/เขา/จุด/พุ/มัน/เป็น/ฝ...   \n",
       "11  12.0                        เพิ่น/ก้ม/แบบ/คน/เมา/นะ/จ้ะ   \n",
       "12  13.0  ก้ม/ก้ม/ส่อง/พุ/เพิ่น/จุด/ละ/เพิ่น/กะ/ก้ม/ส่อง...   \n",
       "13  14.0            เพิ่น/สิ/โซ/กล้าม/เพิ่น/หั่น/นะ/พี่น้อง   \n",
       "14  15.0  โอ/เค/จ้า/สุผู้สุคน/มื้อ/นี้/จั่ง/ใด๋/กะ/ขอบ/ค...   \n",
       "15  16.0  จ้า/พ้อ/กัน/ใหม่/ใน/คลิป/วิ/ดี/โอ/หน้า/สวัสดี/...   \n",
       "\n",
       "                                              ภาษาไทย     เริ่ม        จบ  \\\n",
       "0                               สวัสดี/ทุก ๆ คน/นะ/คะ  00:00:16  00:00:18   \n",
       "1           กิน/ข้าว/ก่อน/นะ/จ้ะ/ใคร/จะ/รอ/เค้า/ดาวน์  00:02:14  00:02:18   \n",
       "2   เค้า/ดาวน์/ก็/ขอ/ให้/เค้า/ดาน์/อย่าง/มี/ความ/ส...  00:02:21  00:02:25   \n",
       "3   นี่/จ้า/อา/หาร/เย็น/เป็น/ลา/ซาน/ย่า/กับ/ผัก/สด...  00:02:33  00:02:37   \n",
       "4                         ขอ/ให้/เชิญ/อร่อย/นะ/ทุก/คน  00:02:38  00:02:41   \n",
       "5           แมท/ธิว/บอก/ว่า/คุณ/แม่/อย่า/พึ่ง/หลับ/นะ  00:03:08  00:03:08   \n",
       "6                                         เงียบ/มาก ๆ  00:09:51  00:09:53   \n",
       "7            ไม่/มี/ความ/รื่น/เริง/อะ/ไร/เลย/ด้าน/นอก  00:10:07  00:10:11   \n",
       "8                  วัน/นี้/จะ/ดู/พุ/ตอน/หก/ทุ่ม/นะ/คะ  00:10:29  00:10:33   \n",
       "9             ถ้า/ฝน/ตก/หิ/มะ/ตก/คง/จะ/ไม่/ได้/ออก/ไป  00:10:40  00:10:43   \n",
       "10  ปี/ที่/แล้ว/ออก/ไป/ดู/เขา/จุด/พุ/มัน/เป็น/ฝน/ห...  00:10:52  00:10:56   \n",
       "11                         เขา/ก้ม/แบบ/คน/เมา/อ่ะ/ค่ะ  00:11:09  00:11:12   \n",
       "12  ก้ม/ก้ม/ส่อง/พุ/เขา/จุด/ละ/เขา/ก็/ก้ม/ส่อง/เขา...  00:11:14  00:11:18   \n",
       "13              เขา/จะ/โชว์/กล้าม/เขา/นั่น/แหละ/ทุกคน  00:13:11  00:13:13   \n",
       "14  โอ/เค/จ้า/ทุก ๆ  คน/วัน/นี้/ยัง/ไง/ก็/ขอบ/คุณ/...  00:15:23  00:15:26   \n",
       "15  จ้า/เจอ/กัน/ใหม่/ใน/คลิป/วิ/ดี/โอ/หน้า/สวัสดี/...  00:15:30  00:15:33   \n",
       "\n",
       "    จบ-เริ่ม                                                G2P  \\\n",
       "0   00:00:02  s-a-z^-1 w-a-t^-1 d-ii-z^-0 *s-u-z^-1 *ph-uu-z...   \n",
       "1   00:00:04  k-i-n^-0 *kh-aa-w^-2 *k-@@-n^-1 *d-qq-z^-2 *c-...   \n",
       "2   00:00:04  kh-a-w^-3 *d-aa-w^-0 *k-a-z^-1 *kh-@@-z^-4 *h-...   \n",
       "3   00:00:04  n-ii-z^-2 *c-aa-z^-2 *z-aa-z^-0 *h-aa-n^-4 *j-...   \n",
       "4   00:00:03  kh-@@-z^-4 *h-a-j^-2 *ch-qq-n^-0 *s-xx-p^-2 *d...   \n",
       "5   00:00:00  m-xx-t^-1 *th-i-w^-0 *b-@@-k^-1 *w-aa-z^-2 *z-...   \n",
       "6   00:00:02                  ng-iia-p^-2 *h-xx-ng^-0 *c-a-t^-1   \n",
       "7   00:00:04  b-@@-z^-1 *m-ii-z^-0 *khw-aa-m^-0 *r-vv-n^-2 *...   \n",
       "8   00:00:04  m-vv-z^-3 *n-ii-z^-3 *s-i-z^-1 *b-q-ng^-1 *ph-...   \n",
       "9   00:00:03  th-aa-z^-2 *f-o-n^-4 *t-o-k^-1 *h-i-z^-1 *m-a-...   \n",
       "10  00:00:04  p-ii-z^-0 *th-ii-z^-2 *l-xx-w^-3 *z-@@-k^-1 *p...   \n",
       "11  00:00:03  ph-qq-n^-2 *k-o-m^-3 *b-xx-p^-1 *kh-o-n^-0 *m-...   \n",
       "12  00:00:04  k-o-m^-3 *k-o-m^-3 *s-@-ng^-1 *ph-u-z^-3 *ph-q...   \n",
       "13  00:00:02  ph-qq-n^-2 *s-i-z^-1 *s-oo-z^-0 *kl-aa-m^-2 *p...   \n",
       "14  00:00:03  z-oo-z^-0 *kh-ee-z^-0 *c-aa-z^-2\\n*s-u-z^-1 *p...   \n",
       "15  00:00:03  c-aa-z^-2 *ph-@@-z^-3 *k-a-n^-0 *m-a-j^-1 *n-a...   \n",
       "\n",
       "                                        ภาษาอีสานใหม่  \\\n",
       "0                        สวัสดี, สุผู้สุคน, เด้อ, จ้า   \n",
       "1   กิน, ข้าว, ก่อน, เด้อ, จ้า,  ไผ, สิ, ถ่า, เค้า...   \n",
       "2   เค้า, ดาว, กะ, ขอ, ให้, เค้า, ดาว, อย่าง, มี, ...   \n",
       "3   นี่, จ้า, อา, หาร, เย็น, เป็น, ลา, ซาน, ย่า, ก...   \n",
       "4                ขอ, ให้, เชิญ, แซ่บ, เด้อ, พี่, น้อง   \n",
       "5   แมท, ธิว, บอก, ว่า, อี, แม่, อย่า, พึ่ง, หลับ,...   \n",
       "6                                       เงียบ, แฮงจัด   \n",
       "7   บ่, มี, ความ, รื่น, เริง, อี, หยัง, เลย, ข้าง,...   \n",
       "8        มื้อ, นี้, สิ, เบิ่ง, พุ, ตอน, หก, ทุ่ม, จ่ะ   \n",
       "9   ถ้า, ฝน, ตก, หิ, มะ, ตก, คึ, สิ, บ่, ได้, ออก, ไป   \n",
       "10  ปี, ที่, แล้ว, ออก, ไป, เบิ่ง, เขา, จุด, พุ, ม...   \n",
       "11                  เพิ่น, ก้ม, แบบ, คน, เมา, นะ, จ้ะ   \n",
       "12  ก้ม, ก้ม, ส่อง, พุ, เพิ่น, จุด, ละ, เพิ่น, กะ,...   \n",
       "13     เพิ่น, สิ, โซ, กล้าม, เพิ่น, หั่น, นะ, พี่น้อง   \n",
       "14  โอ, เค, จ้า, สุผู้สุคน, มื้อ, นี้, จั่ง, ใด๋, ...   \n",
       "15  จ้า, พ้อ, กัน, ใหม่, ใน, คลิป, วิ, ดี, โอ, หน้...   \n",
       "\n",
       "                                          ภาษาไทยใหม่  \n",
       "0                            สวัสดี, ทุก ๆ คน, นะ, คะ  \n",
       "1   กิน, ข้าว, ก่อน, นะ, จ้ะ, ใคร, จะ, รอ, เค้า, ด...  \n",
       "2   เค้า, ดาวน์, ก็, ขอ, ให้, เค้า, ดาน์, อย่าง, ม...  \n",
       "3   นี่, จ้า, อา, หาร, เย็น, เป็น, ลา, ซาน, ย่า, ก...  \n",
       "4                   ขอ, ให้, เชิญ, อร่อย, นะ, ทุก, คน  \n",
       "5   แมท, ธิว, บอก, ว่า, คุณ, แม่, อย่า, พึ่ง, หลับ...  \n",
       "6                                        เงียบ, มาก ๆ  \n",
       "7   ไม่, มี, ความ, รื่น, เริง, อะ, ไร, เลย, ด้าน, นอก  \n",
       "8         วัน, นี้, จะ, ดู, พุ, ตอน, หก, ทุ่ม, นะ, คะ  \n",
       "9   ถ้า, ฝน, ตก, หิ, มะ, ตก, คง, จะ, ไม่, ได้, ออก...  \n",
       "10  ปี, ที่, แล้ว, ออก, ไป, ดู, เขา, จุด, พุ, มัน,...  \n",
       "11                   เขา, ก้ม, แบบ, คน, เมา, อ่ะ, ค่ะ  \n",
       "12  ก้ม, ก้ม, ส่อง, พุ, เขา, จุด, ละ, เขา, ก็, ก้ม...  \n",
       "13       เขา, จะ, โชว์, กล้าม, เขา, นั่น, แหละ, ทุกคน  \n",
       "14  โอ, เค, จ้า, ทุก ๆ  คน, วัน, นี้, ยัง, ไง, ก็,...  \n",
       "15  จ้า, เจอ, กัน, ใหม่, ใน, คลิป, วิ, ดี, โอ, หน้...  "
      ]
     },
     "execution_count": 124,
     "metadata": {},
     "output_type": "execute_result"
    }
   ],
   "source": [
    "data1_df"
   ]
  },
  {
   "cell_type": "code",
   "execution_count": 103,
   "metadata": {},
   "outputs": [
    {
     "data": {
      "text/plain": [
       "'สวัสดี, สุผู้สุคน, เด้อ, จ้า'"
      ]
     },
     "execution_count": 103,
     "metadata": {},
     "output_type": "execute_result"
    }
   ],
   "source": [
    "Data.iloc[0]['ภาษาอีสาน'].replace(\"/\", \", \")"
   ]
  },
  {
   "cell_type": "code",
   "execution_count": 104,
   "metadata": {},
   "outputs": [],
   "source": [
    "def replacestr(col1):\n",
    "    co1 = col1.replace(\"/\", \" ,\")\n",
    "    return co1"
   ]
  },
  {
   "cell_type": "code",
   "execution_count": 105,
   "metadata": {},
   "outputs": [
    {
     "data": {
      "text/plain": [
       "'สวัสดี ,ทุก ๆ คน ,นะ ,คะ'"
      ]
     },
     "execution_count": 105,
     "metadata": {},
     "output_type": "execute_result"
    }
   ],
   "source": [
    "replacestr(Data.iloc[0,1])"
   ]
  },
  {
   "cell_type": "code",
   "execution_count": 106,
   "metadata": {},
   "outputs": [],
   "source": [
    "A = []\n",
    "B = []\n",
    "for i in range(len(Data)):\n",
    "    A.append(replacestr(Data.iloc[i]['ภาษาอีสาน']))\n",
    "    B.append(replacestr(Data.iloc[i]['ภาษาไทย']))"
   ]
  },
  {
   "cell_type": "code",
   "execution_count": 107,
   "metadata": {},
   "outputs": [],
   "source": [
    "Data['ภาษาอีสานใหม่'] = A \n",
    "Data['ภาษาไทยใหม่'] = B"
   ]
  },
  {
   "cell_type": "code",
   "execution_count": 108,
   "metadata": {},
   "outputs": [
    {
     "data": {
      "text/plain": [
       "'สวัสดี/ทุก ๆ คน/นะ/คะ'"
      ]
     },
     "execution_count": 108,
     "metadata": {},
     "output_type": "execute_result"
    }
   ],
   "source": [
    "Data.iloc[0][1]"
   ]
  },
  {
   "cell_type": "code",
   "execution_count": 109,
   "metadata": {},
   "outputs": [
    {
     "data": {
      "text/plain": [
       "21"
      ]
     },
     "execution_count": 109,
     "metadata": {},
     "output_type": "execute_result"
    }
   ],
   "source": [
    "len(Data.iloc[0][1])"
   ]
  },
  {
   "cell_type": "code",
   "execution_count": 110,
   "metadata": {},
   "outputs": [],
   "source": [
    "def splitstr(col1):\n",
    "    co1 = col1.split('/')\n",
    "    return co1"
   ]
  },
  {
   "cell_type": "code",
   "execution_count": 111,
   "metadata": {},
   "outputs": [
    {
     "data": {
      "text/plain": [
       "['ทัก',\n",
       " 'ทาย',\n",
       " 'กัน',\n",
       " 'ซัมบายดี',\n",
       " 'สวัสดี',\n",
       " 'วัน',\n",
       " 'อัง',\n",
       " 'คาร',\n",
       " 'เนาะ',\n",
       " 'จ้า',\n",
       " 'อา',\n",
       " 'กาศ',\n",
       " 'มื้อ',\n",
       " 'นี่',\n",
       " 'หนาว',\n",
       " 'พี',\n",
       " 'น้อง',\n",
       " 'แล่ว',\n",
       " 'ก่อ',\n",
       " 'อ่า',\n",
       " 'ช่วง',\n",
       " 'หน่า',\n",
       " 'หนาว',\n",
       " 'นี่',\n",
       " 'จ้า',\n",
       " 'ทาง',\n",
       " 'ทาง',\n",
       " 'เมือง',\n",
       " 'นอก',\n",
       " 'กะ',\n",
       " 'สิ',\n",
       " 'แบบ',\n",
       " 'หว่า']"
      ]
     },
     "execution_count": 111,
     "metadata": {},
     "output_type": "execute_result"
    }
   ],
   "source": [
    "splitstr(df.iloc[0]['ภาษาอีสาน'])"
   ]
  },
  {
   "cell_type": "code",
   "execution_count": 126,
   "metadata": {},
   "outputs": [
    {
     "data": {
      "text/plain": [
       "'กิน, ข้าว, ก่อน, เด้อ, จ้า,  ไผ, สิ, ถ่า, เค้า, ดาวน์'"
      ]
     },
     "execution_count": 126,
     "metadata": {},
     "output_type": "execute_result"
    }
   ],
   "source": [
    "Data.iloc[1]['ภาษาอีสาน'].replace(\"/\", \", \")"
   ]
  },
  {
   "cell_type": "code",
   "execution_count": 130,
   "metadata": {},
   "outputs": [
    {
     "data": {
      "text/plain": [
       "'กิน ,ข้าว ,ก่อน ,เด้อ ,จ้า , ไผ ,สิ ,ถ่า ,เค้า ,ดาวน์'"
      ]
     },
     "execution_count": 130,
     "metadata": {},
     "output_type": "execute_result"
    }
   ],
   "source": [
    "replacestr(Data.iloc[1,2])"
   ]
  },
  {
   "cell_type": "code",
   "execution_count": 139,
   "metadata": {},
   "outputs": [],
   "source": [
    "Data['ภาษาอีสาน'] = A\n",
    "Data['ภาษาไทย'] = B"
   ]
  },
  {
   "cell_type": "code",
   "execution_count": 140,
   "metadata": {},
   "outputs": [],
   "source": [
    "def replacestr(col1):\n",
    "    col1 = col1.replace(\"/\", \" ,\")\n",
    "    return col1"
   ]
  },
  {
   "cell_type": "code",
   "execution_count": 141,
   "metadata": {},
   "outputs": [
    {
     "data": {
      "text/plain": [
       "'กิน ,ข้าว ,ก่อน ,เด้อ ,จ้า , ไผ ,สิ ,ถ่า ,เค้า ,ดาวน์'"
      ]
     },
     "execution_count": 141,
     "metadata": {},
     "output_type": "execute_result"
    }
   ],
   "source": [
    "Data.iloc[1][2]"
   ]
  },
  {
   "cell_type": "code",
   "execution_count": 277,
   "metadata": {},
   "outputs": [],
   "source": [
    "def smartDict(listnumber, listtext, logicV):\n",
    "    if logicV: \n",
    "            retdict = {}\n",
    "            for index in range(len(listnumber)):\n",
    "                  retdict[listnumber[index]] = listtext[index]        \n",
    "    else:\n",
    "            retdict = {}\n",
    "            for index in range(len(listnumber)):\n",
    "                  retdict[listnumber[index]] = listnumber[index] \n",
    "                \n",
    "    return retdict"
   ]
  },
  {
   "cell_type": "code",
   "execution_count": 278,
   "metadata": {},
   "outputs": [
    {
     "ename": "NameError",
     "evalue": "name 'value' is not defined",
     "output_type": "error",
     "traceback": [
      "\u001b[1;31m---------------------------------------------------------------------------\u001b[0m",
      "\u001b[1;31mNameError\u001b[0m                                 Traceback (most recent call last)",
      "\u001b[1;32m<ipython-input-278-e46b4891dcb1>\u001b[0m in \u001b[0;36m<module>\u001b[1;34m\u001b[0m\n\u001b[1;32m----> 1\u001b[1;33m \u001b[0msmartDict\u001b[0m\u001b[1;33m(\u001b[0m\u001b[1;33m[\u001b[0m\u001b[1;36m1\u001b[0m\u001b[1;33m,\u001b[0m\u001b[1;36m2\u001b[0m\u001b[1;33m,\u001b[0m\u001b[1;36m3\u001b[0m\u001b[1;33m]\u001b[0m\u001b[1;33m,\u001b[0m \u001b[1;33m[\u001b[0m\u001b[1;34m'apple'\u001b[0m\u001b[1;33m,\u001b[0m\u001b[1;34m'banana'\u001b[0m\u001b[1;33m,\u001b[0m\u001b[1;34m'orange'\u001b[0m\u001b[1;33m]\u001b[0m\u001b[1;33m,\u001b[0m\u001b[1;32mTrue\u001b[0m\u001b[1;33m)\u001b[0m\u001b[1;33m\u001b[0m\u001b[1;33m\u001b[0m\u001b[0m\n\u001b[0m",
      "\u001b[1;32m<ipython-input-277-0c80f2798a10>\u001b[0m in \u001b[0;36msmartDict\u001b[1;34m(listnumber, listtext, logicV)\u001b[0m\n\u001b[0;32m      3\u001b[0m             \u001b[0mretdict\u001b[0m \u001b[1;33m=\u001b[0m \u001b[1;33m{\u001b[0m\u001b[1;33m}\u001b[0m\u001b[1;33m\u001b[0m\u001b[1;33m\u001b[0m\u001b[0m\n\u001b[0;32m      4\u001b[0m             \u001b[1;32mfor\u001b[0m \u001b[0mindex\u001b[0m \u001b[1;32min\u001b[0m \u001b[0mrange\u001b[0m\u001b[1;33m(\u001b[0m\u001b[0mlen\u001b[0m\u001b[1;33m(\u001b[0m\u001b[0mlistnumber\u001b[0m\u001b[1;33m)\u001b[0m\u001b[1;33m)\u001b[0m\u001b[1;33m:\u001b[0m\u001b[1;33m\u001b[0m\u001b[1;33m\u001b[0m\u001b[0m\n\u001b[1;32m----> 5\u001b[1;33m                   \u001b[0mretdict\u001b[0m\u001b[1;33m[\u001b[0m\u001b[0mlistnumber\u001b[0m\u001b[1;33m[\u001b[0m\u001b[0mindex\u001b[0m\u001b[1;33m]\u001b[0m\u001b[1;33m]\u001b[0m \u001b[1;33m=\u001b[0m \u001b[0mlisttext\u001b[0m\u001b[1;33m[\u001b[0m\u001b[0mvalue\u001b[0m\u001b[1;33m]\u001b[0m\u001b[1;33m\u001b[0m\u001b[1;33m\u001b[0m\u001b[0m\n\u001b[0m\u001b[0;32m      6\u001b[0m     \u001b[1;32melse\u001b[0m\u001b[1;33m:\u001b[0m\u001b[1;33m\u001b[0m\u001b[1;33m\u001b[0m\u001b[0m\n\u001b[0;32m      7\u001b[0m             \u001b[0mretdict\u001b[0m \u001b[1;33m=\u001b[0m \u001b[1;33m{\u001b[0m\u001b[1;33m}\u001b[0m\u001b[1;33m\u001b[0m\u001b[1;33m\u001b[0m\u001b[0m\n",
      "\u001b[1;31mNameError\u001b[0m: name 'value' is not defined"
     ]
    }
   ],
   "source": [
    "smartDict([1,2,3], ['apple','banana','orange'],True)"
   ]
  },
  {
   "cell_type": "code",
   "execution_count": 273,
   "metadata": {},
   "outputs": [
    {
     "data": {
      "text/plain": [
       "{1: 1, 2: 2, 3: 3}"
      ]
     },
     "execution_count": 273,
     "metadata": {},
     "output_type": "execute_result"
    }
   ],
   "source": [
    "smartDict([1,2,3], ['apple','banana','orange'],False)"
   ]
  },
  {
   "cell_type": "code",
   "execution_count": null,
   "metadata": {},
   "outputs": [],
   "source": []
  }
 ],
 "metadata": {
  "kernelspec": {
   "display_name": "Python 3",
   "language": "python",
   "name": "python3"
  },
  "language_info": {
   "codemirror_mode": {
    "name": "ipython",
    "version": 3
   },
   "file_extension": ".py",
   "mimetype": "text/x-python",
   "name": "python",
   "nbconvert_exporter": "python",
   "pygments_lexer": "ipython3",
   "version": "3.7.3"
  }
 },
 "nbformat": 4,
 "nbformat_minor": 2
}
